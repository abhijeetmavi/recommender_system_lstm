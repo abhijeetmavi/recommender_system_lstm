{
  "nbformat": 4,
  "nbformat_minor": 0,
  "metadata": {
    "colab": {
      "name": "proj1_data3.ipynb",
      "provenance": [],
      "collapsed_sections": []
    },
    "kernelspec": {
      "name": "python3",
      "display_name": "Python 3"
    },
    "accelerator": "GPU"
  },
  "cells": [
    {
      "cell_type": "code",
      "metadata": {
        "id": "H5OjA79I5rJ2",
        "colab_type": "code",
        "colab": {}
      },
      "source": [
        "import torch.nn as nn\n",
        "import torch\n",
        "\n",
        "import torch.optim as optim\n",
        "\n",
        "import pandas as pd\n",
        "import numpy as np\n",
        "\n"
      ],
      "execution_count": 0,
      "outputs": []
    },
    {
      "cell_type": "code",
      "metadata": {
        "id": "T5dOkTYskPZ9",
        "colab_type": "code",
        "outputId": "85267523-0588-47d1-e61a-598fa138cb20",
        "colab": {
          "base_uri": "https://localhost:8080/",
          "height": 35
        }
      },
      "source": [
        "xt=pd.read_csv(\"m_train3b.csv\")\n",
        "xt['clicked'].shape"
      ],
      "execution_count": 0,
      "outputs": [
        {
          "output_type": "execute_result",
          "data": {
            "text/plain": [
              "(26784,)"
            ]
          },
          "metadata": {
            "tags": []
          },
          "execution_count": 5
        }
      ]
    },
    {
      "cell_type": "code",
      "metadata": {
        "id": "4rDoIHCU53OY",
        "colab_type": "code",
        "outputId": "0bb02ad5-54e8-4226-9170-5b28a61c9b8e",
        "colab": {
          "base_uri": "https://localhost:8080/",
          "height": 164
        }
      },
      "source": [
        "xt=pd.read_csv(\"m_train3b.csv\")\n",
        "y_train=xt['clicked']\n",
        "x_train=xt.drop(['clicked'],axis=1)\n",
        "\n",
        "xt2=pd.read_csv(\"m_test3b.csv\")\n",
        "y_test=xt2['clicked']\n",
        "x_test=xt2.drop(['clicked'],axis=1)\n",
        "#print(x_test.shape)\n",
        "#print(x_train.shape)\n",
        "\n",
        "x2=x_test.copy()\n",
        "y2=y_test.copy()\n",
        "\n",
        "print(x_test.shape)\n",
        "\n",
        "x_valid=x2.iloc[:3350,:]\n",
        "y_valid=y2.iloc[:3350,]\n",
        "#print(x_valid.shape)\n",
        "#print(y_valid.shape)\n",
        "\n",
        "x_test=x_test.iloc[3351:,:]\n",
        "y_test=y_test.iloc[3351:,]\n",
        "#print(x_test.shape)\n",
        "#print(y_test.shape)\n",
        "\n",
        "x_train.fillna(0,inplace=True)\n",
        "x_test.fillna(0,inplace=True)\n",
        "x_valid.fillna(0,inplace=True)\n",
        "\n",
        "#x_test.fillna(0,inplace=True)\n",
        "#print(sum(x_train.isna().any()))\n",
        "#print(sum(x_test.isna().any()))\n",
        "#print(sum(x_valid.isna().any()))\n",
        "\n",
        "seq_length=8\n",
        "batch_size=70\n",
        "x1=torch.ones([x_train.shape[0]-seq_length+1,seq_length,x_train.shape[1]])\n",
        "y1=torch.ones([(x_train.shape[0]-seq_length+1),seq_length])\n",
        "\n",
        "\n",
        "y_valid.shape"
      ],
      "execution_count": 2,
      "outputs": [
        {
          "output_type": "stream",
          "text": [
            "(6748, 2200)\n"
          ],
          "name": "stdout"
        },
        {
          "output_type": "stream",
          "text": [
            "/usr/local/lib/python3.6/dist-packages/pandas/core/frame.py:4153: SettingWithCopyWarning: \n",
            "A value is trying to be set on a copy of a slice from a DataFrame\n",
            "\n",
            "See the caveats in the documentation: https://pandas.pydata.org/pandas-docs/stable/user_guide/indexing.html#returning-a-view-versus-a-copy\n",
            "  downcast=downcast,\n"
          ],
          "name": "stderr"
        },
        {
          "output_type": "execute_result",
          "data": {
            "text/plain": [
              "(3350,)"
            ]
          },
          "metadata": {
            "tags": []
          },
          "execution_count": 2
        }
      ]
    },
    {
      "cell_type": "code",
      "metadata": {
        "id": "jnUY47QsxHzT",
        "colab_type": "code",
        "outputId": "38efcec6-bc31-4c38-839a-ced88009ec5c",
        "colab": {
          "base_uri": "https://localhost:8080/",
          "height": 35
        }
      },
      "source": [
        "from google.colab import drive\n",
        "drive.mount('/content/drive')"
      ],
      "execution_count": 0,
      "outputs": [
        {
          "output_type": "stream",
          "text": [
            "Drive already mounted at /content/drive; to attempt to forcibly remount, call drive.mount(\"/content/drive\", force_remount=True).\n"
          ],
          "name": "stdout"
        }
      ]
    },
    {
      "cell_type": "code",
      "metadata": {
        "id": "k3mIR8t15z3A",
        "colab_type": "code",
        "outputId": "5c6a454b-a4f0-4d41-87ad-8fbcb4988ace",
        "colab": {
          "base_uri": "https://localhost:8080/",
          "height": 53
        }
      },
      "source": [
        "#Training Model\n",
        "\n",
        "x1=torch.ones([x_train.shape[0]-seq_length+1,seq_length,x_train.shape[1]])\n",
        "y1=torch.ones([(x_train.shape[0]-seq_length+1),seq_length])\n",
        "\n",
        "for i in range(x_train.shape[0]-seq_length+1):\n",
        "    x1[i] =  torch.tensor(x_train.iloc[i:i+seq_length, :].values)\n",
        "    y1[i] = torch.tensor(y_train.iloc[i:i+seq_length].values)\n",
        "\n",
        "#x1.shape\n",
        "y1 = y1[:, :]\n",
        "\n",
        "order = torch.randperm(len(x1))\n",
        "x1 = x1[order]\n",
        "y1 = y1[order]\n",
        "\n",
        "print(x1.shape)\n",
        "print(y1.shape)"
      ],
      "execution_count": 20,
      "outputs": [
        {
          "output_type": "stream",
          "text": [
            "torch.Size([26777, 8, 2200])\n",
            "torch.Size([26777, 8])\n"
          ],
          "name": "stdout"
        }
      ]
    },
    {
      "cell_type": "code",
      "metadata": {
        "id": "LQ3AfTUKmkB_",
        "colab_type": "code",
        "outputId": "9c21d06d-7bd0-4c82-83d3-2c008bc4a4fe",
        "colab": {
          "base_uri": "https://localhost:8080/",
          "height": 53
        }
      },
      "source": [
        "#testing Model\n",
        "\n",
        "x2=torch.ones([x_test.shape[0]-seq_length+1,seq_length,x_test.shape[1]])\n",
        "y2=torch.ones([(x_test.shape[0]-seq_length+1),seq_length])\n",
        "\n",
        "\n",
        "for i in range(x_test.shape[0]-seq_length+1):\n",
        "    x2[i] =  torch.tensor(x_test.iloc[i:i+seq_length, :].values)\n",
        "    y2[i] = torch.tensor(y_test.iloc[i:i+seq_length].values)\n",
        "\n",
        "#x2.shape\n",
        "y2 = y2[:, : ]\n",
        "\n",
        "print(x2.shape)\n",
        "print(y2.shape)"
      ],
      "execution_count": 21,
      "outputs": [
        {
          "output_type": "stream",
          "text": [
            "torch.Size([3390, 8, 2200])\n",
            "torch.Size([3390, 8])\n"
          ],
          "name": "stdout"
        }
      ]
    },
    {
      "cell_type": "code",
      "metadata": {
        "id": "QHQeDeTlnSFJ",
        "colab_type": "code",
        "outputId": "d1e87eff-c08a-4419-9c37-1452b020499e",
        "colab": {
          "base_uri": "https://localhost:8080/",
          "height": 53
        }
      },
      "source": [
        "#validing Model\n",
        "\n",
        "xv=torch.ones([x_valid.shape[0]-seq_length+1,seq_length,x_valid.shape[1]])\n",
        "yv=torch.ones([(x_valid.shape[0]-seq_length+1),seq_length])\n",
        "\n",
        "\n",
        "for i in range(x_valid.shape[0]-seq_length+1):\n",
        "    xv[i] =  torch.tensor(x_valid.iloc[i:i+seq_length, :].values)\n",
        "    yv[i] = torch.tensor(y_valid.iloc[i:i+seq_length].values)\n",
        "\n",
        "#xv.shape\n",
        "yv = yv[:, : ]\n",
        "\n",
        "print(xv.shape)\n",
        "print(yv.shape)"
      ],
      "execution_count": 22,
      "outputs": [
        {
          "output_type": "stream",
          "text": [
            "torch.Size([3343, 8, 2200])\n",
            "torch.Size([3343, 8])\n"
          ],
          "name": "stdout"
        }
      ]
    },
    {
      "cell_type": "code",
      "metadata": {
        "id": "zKcDoRmWJYPl",
        "colab_type": "code",
        "colab": {}
      },
      "source": [
        "#Vanilla LSTM\n",
        "class MyModule(nn.Module):\n",
        "    def __init__(self):\n",
        "        super(MyModule, self).__init__()\n",
        "        self.lstm = nn.LSTM(2200,32) #defining features and hidden dimensions\n",
        "        self.linear= nn.Linear(32, 2)\n",
        "       \n",
        "\n",
        "    def forward(self, x):\n",
        "        out, (h, c) = self.lstm(x) # h,c are the last hidden and cell state; out has all the hidden states \n",
        "         #taking only the last hidden state for input\n",
        "        \n",
        "        x=self.linear(out)\n",
        "   \n",
        "        return x"
      ],
      "execution_count": 0,
      "outputs": []
    },
    {
      "cell_type": "code",
      "metadata": {
        "id": "Iq27w3OGJcDP",
        "colab_type": "code",
        "colab": {}
      },
      "source": [
        "#Define criterions like loss function and optimizer\n",
        "\n",
        "net = MyModule()\n",
        "criterion = nn.CrossEntropyLoss()\n",
        "optimizer = optim.AdamW(net.parameters(), lr=1e-3, weight_decay=1e-4)\n",
        "\n",
        "\n"
      ],
      "execution_count": 0,
      "outputs": []
    },
    {
      "cell_type": "code",
      "metadata": {
        "id": "JI3sImRCJeO-",
        "colab_type": "code",
        "outputId": "535f6621-1094-40c0-d293-8a8943370012",
        "colab": {
          "base_uri": "https://localhost:8080/",
          "height": 1000
        }
      },
      "source": [
        "x1 = torch.transpose(x1, 0, 1)\n",
        "y1 = torch.transpose(y1, 0, 1)\n",
        "n_epoch=100\n",
        "xv = torch.transpose(xv, 0, 1)\n",
        "yv = torch.transpose(yv, 0, 1)\n",
        "steps = x1.shape[1] // batch_size\n",
        "valid_err_fin = 1\n",
        "\n",
        "\n",
        "\n",
        "\n",
        "for epoch in range(n_epoch):\n",
        "    print(valid_err_fin)\n",
        "    train_error = 0.\n",
        "    for step in range(steps):\n",
        "        X = x1[:, step * batch_size : (step + 1) * batch_size, :]\n",
        "        y = y1[:, step * batch_size : (step + 1) * batch_size]\n",
        "        y = y.reshape(-1).long()\n",
        "        \n",
        "        y_pred = net(X)\n",
        "       \n",
        "        #y_pred = y_pred.repeat(1, 1, 2)\n",
        "        #y_pred[:, :, 1] = 1 - y_pred[:, :, 0]\n",
        "        y_pred = y_pred.view(-1, 2)\n",
        "        \n",
        "        train_loss = criterion(y_pred, y)\n",
        "        optimizer.zero_grad()\n",
        "        train_loss.backward()\n",
        "        optimizer.step()\n",
        "        \n",
        "        train_error += train_loss.item()\n",
        "\n",
        "        \n",
        "    \n",
        "    step2s = xv.shape[1] // batch_size\n",
        "    valid_err=0.\n",
        "\n",
        "    miss_class=0\n",
        "    for step2 in range(step2s):\n",
        "\n",
        "        \n",
        "\n",
        "\n",
        "        Xv = xv[:, step2 * batch_size : (step2 + 1) * batch_size, :]\n",
        "        yvalid = yv[:, step2 * batch_size : (step2 + 1) * batch_size]\n",
        "        yvalid = yvalid.reshape(-1).long()\n",
        "    \n",
        "        y_pred2 = net(Xv)\n",
        "       \n",
        "    #y_pred = y_pred.repeat(1, 1, 2)\n",
        "    #y_pred[:, :, 1] = 1 - y_pred[:, :, 0]\n",
        "        y_pred2 = y_pred2.view(-1, 2)\n",
        "\n",
        "        y_pred2 = torch.argmax(y_pred2, dim=-1)\n",
        "        \n",
        "        valid_err+=sum(y_pred2!=yvalid)/(float(len(yvalid)))\n",
        "        \n",
        "\n",
        "        #valid_loss = criterion(y_pred2, y2)\n",
        "    #optimizer.zero_grad()\n",
        "    #train_loss.backward()\n",
        "    #optimizer.step2()\n",
        "    \n",
        "        #valid_error+=valid_loss.item()\n",
        "\n",
        "    valid_error=valid_err/step2s\n",
        "\n",
        "    if(valid_error<valid_err_fin):\n",
        "        valid_err_fin=valid_error\n",
        "        torch.save(net.state_dict(), 'checkpoint.pth')\n",
        "    print(\"Epoch: {}, Training Error, {}, Valid Error, {}\".format(epoch, train_error/steps,valid_error))    \n",
        "    torch.save(net.state_dict(), 'checkpoint.pth') \n",
        "\n",
        "    #for g in optimizer.param_groups:\n",
        "     #   g['lr'] *= 0.95\n",
        "      #  print(\"LR: {}\".format(g['lr']))  \n",
        "    \n"
      ],
      "execution_count": 27,
      "outputs": [
        {
          "output_type": "stream",
          "text": [
            "1\n",
            "Epoch: 0, Training Error, 0.4064754871797811, Valid Error, 0.16208207607269287\n",
            "tensor(0.1621)\n",
            "Epoch: 1, Training Error, 0.309187545436215, Valid Error, 0.1613221913576126\n",
            "tensor(0.1613)\n",
            "Epoch: 2, Training Error, 0.2508412299980044, Valid Error, 0.16812309622764587\n",
            "tensor(0.1613)\n",
            "Epoch: 3, Training Error, 0.19154431865945537, Valid Error, 0.17670972645282745\n",
            "tensor(0.1613)\n",
            "Epoch: 4, Training Error, 0.14314001433902385, Valid Error, 0.1828647404909134\n",
            "tensor(0.1613)\n",
            "Epoch: 5, Training Error, 0.11030750103411874, Valid Error, 0.18795590102672577\n",
            "tensor(0.1613)\n",
            "Epoch: 6, Training Error, 0.08856499263363359, Valid Error, 0.19053947925567627\n",
            "tensor(0.1613)\n",
            "Epoch: 7, Training Error, 0.07357714616776449, Valid Error, 0.19308508932590485\n",
            "tensor(0.1613)\n",
            "Epoch: 8, Training Error, 0.06274390898410874, Valid Error, 0.19335106015205383\n",
            "tensor(0.1613)\n",
            "Epoch: 9, Training Error, 0.05459712554959102, Valid Error, 0.19460487365722656\n",
            "tensor(0.1613)\n",
            "Epoch: 10, Training Error, 0.04833443638385902, Valid Error, 0.19601058959960938\n",
            "tensor(0.1613)\n",
            "Epoch: 11, Training Error, 0.04339973644611879, Valid Error, 0.19745440781116486\n",
            "tensor(0.1613)\n",
            "Epoch: 12, Training Error, 0.03940784989207671, Valid Error, 0.20125378668308258\n",
            "tensor(0.1613)\n",
            "Epoch: 13, Training Error, 0.03607446549665085, Valid Error, 0.20319147408008575\n",
            "tensor(0.1613)\n",
            "Epoch: 14, Training Error, 0.033292093948114915, Valid Error, 0.2030775398015976\n",
            "tensor(0.1613)\n",
            "Epoch: 15, Training Error, 0.030960873164314562, Valid Error, 0.20170968770980835\n",
            "tensor(0.1613)\n",
            "Epoch: 16, Training Error, 0.028977046237956168, Valid Error, 0.2027735859155655\n",
            "tensor(0.1613)\n",
            "Epoch: 17, Training Error, 0.027233880464260646, Valid Error, 0.20577505230903625\n",
            "tensor(0.1613)\n",
            "Epoch: 18, Training Error, 0.025683378890956416, Valid Error, 0.2061549872159958\n",
            "tensor(0.1613)\n",
            "Epoch: 19, Training Error, 0.02434955156500895, Valid Error, 0.20288753509521484\n",
            "tensor(0.1613)\n"
          ],
          "name": "stdout"
        },
        {
          "output_type": "error",
          "ename": "KeyboardInterrupt",
          "evalue": "ignored",
          "traceback": [
            "\u001b[0;31m---------------------------------------------------------------------------\u001b[0m",
            "\u001b[0;31mKeyboardInterrupt\u001b[0m                         Traceback (most recent call last)",
            "\u001b[0;32m<ipython-input-27-f7f96b3ac8c7>\u001b[0m in \u001b[0;36m<module>\u001b[0;34m()\u001b[0m\n\u001b[1;32m     46\u001b[0m         \u001b[0myvalid\u001b[0m \u001b[0;34m=\u001b[0m \u001b[0myvalid\u001b[0m\u001b[0;34m.\u001b[0m\u001b[0mreshape\u001b[0m\u001b[0;34m(\u001b[0m\u001b[0;34m-\u001b[0m\u001b[0;36m1\u001b[0m\u001b[0;34m)\u001b[0m\u001b[0;34m.\u001b[0m\u001b[0mlong\u001b[0m\u001b[0;34m(\u001b[0m\u001b[0;34m)\u001b[0m\u001b[0;34m\u001b[0m\u001b[0;34m\u001b[0m\u001b[0m\n\u001b[1;32m     47\u001b[0m \u001b[0;34m\u001b[0m\u001b[0m\n\u001b[0;32m---> 48\u001b[0;31m         \u001b[0my_pred2\u001b[0m \u001b[0;34m=\u001b[0m \u001b[0mnet\u001b[0m\u001b[0;34m(\u001b[0m\u001b[0mXv\u001b[0m\u001b[0;34m)\u001b[0m\u001b[0;34m\u001b[0m\u001b[0;34m\u001b[0m\u001b[0m\n\u001b[0m\u001b[1;32m     49\u001b[0m \u001b[0;34m\u001b[0m\u001b[0m\n\u001b[1;32m     50\u001b[0m     \u001b[0;31m#y_pred = y_pred.repeat(1, 1, 2)\u001b[0m\u001b[0;34m\u001b[0m\u001b[0;34m\u001b[0m\u001b[0;34m\u001b[0m\u001b[0m\n",
            "\u001b[0;32m/usr/local/lib/python3.6/dist-packages/torch/nn/modules/module.py\u001b[0m in \u001b[0;36m__call__\u001b[0;34m(self, *input, **kwargs)\u001b[0m\n\u001b[1;32m    530\u001b[0m             \u001b[0mresult\u001b[0m \u001b[0;34m=\u001b[0m \u001b[0mself\u001b[0m\u001b[0;34m.\u001b[0m\u001b[0m_slow_forward\u001b[0m\u001b[0;34m(\u001b[0m\u001b[0;34m*\u001b[0m\u001b[0minput\u001b[0m\u001b[0;34m,\u001b[0m \u001b[0;34m**\u001b[0m\u001b[0mkwargs\u001b[0m\u001b[0;34m)\u001b[0m\u001b[0;34m\u001b[0m\u001b[0;34m\u001b[0m\u001b[0m\n\u001b[1;32m    531\u001b[0m         \u001b[0;32melse\u001b[0m\u001b[0;34m:\u001b[0m\u001b[0;34m\u001b[0m\u001b[0;34m\u001b[0m\u001b[0m\n\u001b[0;32m--> 532\u001b[0;31m             \u001b[0mresult\u001b[0m \u001b[0;34m=\u001b[0m \u001b[0mself\u001b[0m\u001b[0;34m.\u001b[0m\u001b[0mforward\u001b[0m\u001b[0;34m(\u001b[0m\u001b[0;34m*\u001b[0m\u001b[0minput\u001b[0m\u001b[0;34m,\u001b[0m \u001b[0;34m**\u001b[0m\u001b[0mkwargs\u001b[0m\u001b[0;34m)\u001b[0m\u001b[0;34m\u001b[0m\u001b[0;34m\u001b[0m\u001b[0m\n\u001b[0m\u001b[1;32m    533\u001b[0m         \u001b[0;32mfor\u001b[0m \u001b[0mhook\u001b[0m \u001b[0;32min\u001b[0m \u001b[0mself\u001b[0m\u001b[0;34m.\u001b[0m\u001b[0m_forward_hooks\u001b[0m\u001b[0;34m.\u001b[0m\u001b[0mvalues\u001b[0m\u001b[0;34m(\u001b[0m\u001b[0;34m)\u001b[0m\u001b[0;34m:\u001b[0m\u001b[0;34m\u001b[0m\u001b[0;34m\u001b[0m\u001b[0m\n\u001b[1;32m    534\u001b[0m             \u001b[0mhook_result\u001b[0m \u001b[0;34m=\u001b[0m \u001b[0mhook\u001b[0m\u001b[0;34m(\u001b[0m\u001b[0mself\u001b[0m\u001b[0;34m,\u001b[0m \u001b[0minput\u001b[0m\u001b[0;34m,\u001b[0m \u001b[0mresult\u001b[0m\u001b[0;34m)\u001b[0m\u001b[0;34m\u001b[0m\u001b[0;34m\u001b[0m\u001b[0m\n",
            "\u001b[0;32m<ipython-input-25-03dd0c55f233>\u001b[0m in \u001b[0;36mforward\u001b[0;34m(self, x)\u001b[0m\n\u001b[1;32m      7\u001b[0m \u001b[0;34m\u001b[0m\u001b[0m\n\u001b[1;32m      8\u001b[0m     \u001b[0;32mdef\u001b[0m \u001b[0mforward\u001b[0m\u001b[0;34m(\u001b[0m\u001b[0mself\u001b[0m\u001b[0;34m,\u001b[0m \u001b[0mx\u001b[0m\u001b[0;34m)\u001b[0m\u001b[0;34m:\u001b[0m\u001b[0;34m\u001b[0m\u001b[0;34m\u001b[0m\u001b[0m\n\u001b[0;32m----> 9\u001b[0;31m         \u001b[0mout\u001b[0m\u001b[0;34m,\u001b[0m \u001b[0;34m(\u001b[0m\u001b[0mh\u001b[0m\u001b[0;34m,\u001b[0m \u001b[0mc\u001b[0m\u001b[0;34m)\u001b[0m \u001b[0;34m=\u001b[0m \u001b[0mself\u001b[0m\u001b[0;34m.\u001b[0m\u001b[0mlstm\u001b[0m\u001b[0;34m(\u001b[0m\u001b[0mx\u001b[0m\u001b[0;34m)\u001b[0m \u001b[0;31m# h,c are the last hidden and cell state; out has all the hidden states\u001b[0m\u001b[0;34m\u001b[0m\u001b[0;34m\u001b[0m\u001b[0m\n\u001b[0m\u001b[1;32m     10\u001b[0m          \u001b[0;31m#taking only the last hidden state for input\u001b[0m\u001b[0;34m\u001b[0m\u001b[0;34m\u001b[0m\u001b[0;34m\u001b[0m\u001b[0m\n\u001b[1;32m     11\u001b[0m \u001b[0;34m\u001b[0m\u001b[0m\n",
            "\u001b[0;32m/usr/local/lib/python3.6/dist-packages/torch/nn/modules/module.py\u001b[0m in \u001b[0;36m__call__\u001b[0;34m(self, *input, **kwargs)\u001b[0m\n\u001b[1;32m    530\u001b[0m             \u001b[0mresult\u001b[0m \u001b[0;34m=\u001b[0m \u001b[0mself\u001b[0m\u001b[0;34m.\u001b[0m\u001b[0m_slow_forward\u001b[0m\u001b[0;34m(\u001b[0m\u001b[0;34m*\u001b[0m\u001b[0minput\u001b[0m\u001b[0;34m,\u001b[0m \u001b[0;34m**\u001b[0m\u001b[0mkwargs\u001b[0m\u001b[0;34m)\u001b[0m\u001b[0;34m\u001b[0m\u001b[0;34m\u001b[0m\u001b[0m\n\u001b[1;32m    531\u001b[0m         \u001b[0;32melse\u001b[0m\u001b[0;34m:\u001b[0m\u001b[0;34m\u001b[0m\u001b[0;34m\u001b[0m\u001b[0m\n\u001b[0;32m--> 532\u001b[0;31m             \u001b[0mresult\u001b[0m \u001b[0;34m=\u001b[0m \u001b[0mself\u001b[0m\u001b[0;34m.\u001b[0m\u001b[0mforward\u001b[0m\u001b[0;34m(\u001b[0m\u001b[0;34m*\u001b[0m\u001b[0minput\u001b[0m\u001b[0;34m,\u001b[0m \u001b[0;34m**\u001b[0m\u001b[0mkwargs\u001b[0m\u001b[0;34m)\u001b[0m\u001b[0;34m\u001b[0m\u001b[0;34m\u001b[0m\u001b[0m\n\u001b[0m\u001b[1;32m    533\u001b[0m         \u001b[0;32mfor\u001b[0m \u001b[0mhook\u001b[0m \u001b[0;32min\u001b[0m \u001b[0mself\u001b[0m\u001b[0;34m.\u001b[0m\u001b[0m_forward_hooks\u001b[0m\u001b[0;34m.\u001b[0m\u001b[0mvalues\u001b[0m\u001b[0;34m(\u001b[0m\u001b[0;34m)\u001b[0m\u001b[0;34m:\u001b[0m\u001b[0;34m\u001b[0m\u001b[0;34m\u001b[0m\u001b[0m\n\u001b[1;32m    534\u001b[0m             \u001b[0mhook_result\u001b[0m \u001b[0;34m=\u001b[0m \u001b[0mhook\u001b[0m\u001b[0;34m(\u001b[0m\u001b[0mself\u001b[0m\u001b[0;34m,\u001b[0m \u001b[0minput\u001b[0m\u001b[0;34m,\u001b[0m \u001b[0mresult\u001b[0m\u001b[0;34m)\u001b[0m\u001b[0;34m\u001b[0m\u001b[0;34m\u001b[0m\u001b[0m\n",
            "\u001b[0;32m/usr/local/lib/python3.6/dist-packages/torch/nn/modules/rnn.py\u001b[0m in \u001b[0;36mforward\u001b[0;34m(self, input, hx)\u001b[0m\n\u001b[1;32m    557\u001b[0m         \u001b[0;32mif\u001b[0m \u001b[0mbatch_sizes\u001b[0m \u001b[0;32mis\u001b[0m \u001b[0;32mNone\u001b[0m\u001b[0;34m:\u001b[0m\u001b[0;34m\u001b[0m\u001b[0;34m\u001b[0m\u001b[0m\n\u001b[1;32m    558\u001b[0m             result = _VF.lstm(input, hx, self._flat_weights, self.bias, self.num_layers,\n\u001b[0;32m--> 559\u001b[0;31m                               self.dropout, self.training, self.bidirectional, self.batch_first)\n\u001b[0m\u001b[1;32m    560\u001b[0m         \u001b[0;32melse\u001b[0m\u001b[0;34m:\u001b[0m\u001b[0;34m\u001b[0m\u001b[0;34m\u001b[0m\u001b[0m\n\u001b[1;32m    561\u001b[0m             result = _VF.lstm(input, batch_sizes, hx, self._flat_weights, self.bias,\n",
            "\u001b[0;31mKeyboardInterrupt\u001b[0m: "
          ]
        }
      ]
    },
    {
      "cell_type": "code",
      "metadata": {
        "id": "9QReQtaGTITe",
        "colab_type": "code",
        "outputId": "a7440084-c251-45aa-885a-93beaece2979",
        "colab": {
          "base_uri": "https://localhost:8080/",
          "height": 907
        }
      },
      "source": [
        "net.load_state_dict(torch.load('checkpoint.pth'))\n",
        "\n",
        "\n",
        "#testing Model\n",
        "\n",
        "x2=torch.ones([x_test.shape[0]-seq_length+1,seq_length,x_test.shape[1]])\n",
        "y2=torch.ones([(x_test.shape[0]-seq_length+1),seq_length])\n",
        "\n",
        "\n",
        "for i in range(x_test.shape[0]-seq_length+1):\n",
        "    x2[i] =  torch.tensor(x_test.iloc[i:i+seq_length, :].values)\n",
        "    y2[i] = torch.tensor(y_test.iloc[i:i+seq_length].values)\n",
        "\n",
        "#x2.shape\n",
        "y2 = y2[:, : ]\n",
        "x2 = torch.transpose(x2, 0, 1)\n",
        "y2 = torch.transpose(y2, 0, 1)\n",
        "\n",
        "\n",
        "\n",
        "step3s = x2.shape[1] // batch_size\n",
        "valid_err2=0.\n",
        "\n",
        "\n",
        "\n",
        "for step3 in range(step3s):\n",
        "   \n",
        "\n",
        "\n",
        "    X3 = x2[:, step3 * batch_size : (step3 + 1) * batch_size, :]\n",
        "    y3 = y2[:, step3 * batch_size : (step3 + 1) * batch_size]\n",
        "    y3 = y3.reshape(-1).long()\n",
        "    \n",
        "    y_pred3 = net(X3)\n",
        "       \n",
        "    #y_pred = y_pred.repeat(1, 1, 2)\n",
        "    #y_pred[:, :, 1] = 1 - y_pred[:, :, 0]\n",
        "    y_pred3 = y_pred3.view(-1, 2)\n",
        "\n",
        "    y_pred3 = torch.argmax(y_pred3, dim=-1)\n",
        "        \n",
        "    valid_err2+=sum(y_pred3!=y3)/(float(len(y3)))\n",
        "        \n",
        "\n",
        "        #valid_loss = criterion(y_pred2, y2)\n",
        "    #optimizer.zero_grad()\n",
        "    #train_loss.backward()\n",
        "    #optimizer.step2()\n",
        "    print(step3)\n",
        "        #valid_error+=valid_loss.item()\n",
        "\n",
        "valid_error2=valid_err2/step3s\n",
        "\n",
        "print(valid_error2)"
      ],
      "execution_count": 28,
      "outputs": [
        {
          "output_type": "stream",
          "text": [
            "0\n",
            "1\n",
            "2\n",
            "3\n",
            "4\n",
            "5\n",
            "6\n",
            "7\n",
            "8\n",
            "9\n",
            "10\n",
            "11\n",
            "12\n",
            "13\n",
            "14\n",
            "15\n",
            "16\n",
            "17\n",
            "18\n",
            "19\n",
            "20\n",
            "21\n",
            "22\n",
            "23\n",
            "24\n",
            "25\n",
            "26\n",
            "27\n",
            "28\n",
            "29\n",
            "30\n",
            "31\n",
            "32\n",
            "33\n",
            "34\n",
            "35\n",
            "36\n",
            "37\n",
            "38\n",
            "39\n",
            "40\n",
            "41\n",
            "42\n",
            "43\n",
            "44\n",
            "45\n",
            "46\n",
            "47\n",
            "tensor(0.2034)\n"
          ],
          "name": "stdout"
        }
      ]
    },
    {
      "cell_type": "code",
      "metadata": {
        "id": "jiLG44YR50gd",
        "colab_type": "code",
        "outputId": "4bfc310c-5f4c-49d8-b6b7-1d8b02e26082",
        "colab": {
          "base_uri": "https://localhost:8080/",
          "height": 298
        }
      },
      "source": [
        "sum(y_pred2!=y2)/1120."
      ],
      "execution_count": 0,
      "outputs": [
        {
          "output_type": "error",
          "ename": "RuntimeError",
          "evalue": "ignored",
          "traceback": [
            "\u001b[0;31m---------------------------------------------------------------------------\u001b[0m",
            "\u001b[0;31mRuntimeError\u001b[0m                              Traceback (most recent call last)",
            "\u001b[0;32m<ipython-input-438-dc5f2f81dd78>\u001b[0m in \u001b[0;36m<module>\u001b[0;34m()\u001b[0m\n\u001b[0;32m----> 1\u001b[0;31m \u001b[0msum\u001b[0m\u001b[0;34m(\u001b[0m\u001b[0my_pred2\u001b[0m\u001b[0;34m!=\u001b[0m\u001b[0my2\u001b[0m\u001b[0;34m)\u001b[0m\u001b[0;34m/\u001b[0m\u001b[0;36m1120.\u001b[0m\u001b[0;34m\u001b[0m\u001b[0;34m\u001b[0m\u001b[0m\n\u001b[0m",
            "\u001b[0;32m/usr/local/lib/python3.6/dist-packages/torch/tensor.py\u001b[0m in \u001b[0;36mwrapped\u001b[0;34m(*args, **kwargs)\u001b[0m\n\u001b[1;32m     26\u001b[0m     \u001b[0;32mdef\u001b[0m \u001b[0mwrapped\u001b[0m\u001b[0;34m(\u001b[0m\u001b[0;34m*\u001b[0m\u001b[0margs\u001b[0m\u001b[0;34m,\u001b[0m \u001b[0;34m**\u001b[0m\u001b[0mkwargs\u001b[0m\u001b[0;34m)\u001b[0m\u001b[0;34m:\u001b[0m\u001b[0;34m\u001b[0m\u001b[0;34m\u001b[0m\u001b[0m\n\u001b[1;32m     27\u001b[0m         \u001b[0;32mtry\u001b[0m\u001b[0;34m:\u001b[0m\u001b[0;34m\u001b[0m\u001b[0;34m\u001b[0m\u001b[0m\n\u001b[0;32m---> 28\u001b[0;31m             \u001b[0;32mreturn\u001b[0m \u001b[0mf\u001b[0m\u001b[0;34m(\u001b[0m\u001b[0;34m*\u001b[0m\u001b[0margs\u001b[0m\u001b[0;34m,\u001b[0m \u001b[0;34m**\u001b[0m\u001b[0mkwargs\u001b[0m\u001b[0;34m)\u001b[0m\u001b[0;34m\u001b[0m\u001b[0;34m\u001b[0m\u001b[0m\n\u001b[0m\u001b[1;32m     29\u001b[0m         \u001b[0;32mexcept\u001b[0m \u001b[0mTypeError\u001b[0m\u001b[0;34m:\u001b[0m\u001b[0;34m\u001b[0m\u001b[0;34m\u001b[0m\u001b[0m\n\u001b[1;32m     30\u001b[0m             \u001b[0;32mreturn\u001b[0m \u001b[0mNotImplemented\u001b[0m\u001b[0;34m\u001b[0m\u001b[0;34m\u001b[0m\u001b[0m\n",
            "\u001b[0;31mRuntimeError\u001b[0m: The size of tensor a (560) must match the size of tensor b (1236) at non-singleton dimension 1"
          ]
        }
      ]
    },
    {
      "cell_type": "code",
      "metadata": {
        "id": "ZABA75Q-IRZL",
        "colab_type": "code",
        "colab": {
          "base_uri": "https://localhost:8080/",
          "height": 243
        },
        "outputId": "b6acbda7-5ced-4c57-e339-d068bfcb4603"
      },
      "source": [
        "\n",
        "\n",
        "class BLSTM_Cell(nn.Module): # new LSTM cell\n",
        "    def __init__(self, in_features=2200, hidden_features=4):\n",
        "        super(BLSTM_Cell, self).__init__()\n",
        "        \n",
        "        self.in_features = in_features #features dim\n",
        "        self.hidden_features = hidden_features #hidden dim\n",
        "        \n",
        "        self.Wxh = nn.Linear(in_features+hidden_features-90, 4*hidden_features)\n",
        "        self.Wxd = nn.Linear(in_features-60+27, hidden_features)\n",
        "        self.Wxa = nn.Linear(in_features-60+63, hidden_features)\n",
        "        \n",
        "    def forward(self, x, h=None, c=None):\n",
        "        if h is None:\n",
        "            h = torch.zeros([x.shape[0], self.hidden_features])\n",
        "        if c is None:\n",
        "            c = torch.zeros([x.shape[0], self.hidden_features])         \n",
        "            \n",
        "        xh = torch.cat([x[:, :-90], h], dim=-1)\n",
        "        xd = x[:, :-33] \n",
        "        xa = torch.cat([x[:, :-90], x[:, -63:]], dim=-1) \n",
        "        \n",
        "        xh = self.Wxh(xh)\n",
        "        xd = self.Wxd(xd)\n",
        "        xa = self.Wxa(xa)\n",
        "        \n",
        "        i = torch.sigmoid(xh[:, :self.hidden_features])\n",
        "        f = torch.sigmoid(xh[:, self.hidden_features:2*self.hidden_features])\n",
        "        t = torch.sigmoid(xd)\n",
        "        a = torch.sigmoid(xa)\n",
        "        ci = torch.tanh(xh[:, 2*self.hidden_features:3*self.hidden_features])\n",
        "        c = f * c + i * a * t * ci\n",
        "        o = torch.sigmoid(xh[:, 3*self.hidden_features:])\n",
        "        h = o * torch.tanh(c)\n",
        "        \n",
        "        return h, c\n",
        "    \n",
        "cell = BLSTM_Cell()\n",
        "#inputs = torch.randn([4, 6])\n",
        "#h, c = cell(inputs)\n",
        "\n",
        "class BLSTM(nn.Module):\n",
        "    def __init__(self, in_features=2200, hidden_features=4):\n",
        "        super(BLSTM, self).__init__()\n",
        "        \n",
        "        self.cell = BLSTM_Cell(in_features=in_features, hidden_features=hidden_features)\n",
        "        \n",
        "    def forward(self, x, h0=None, c0=None):\n",
        "        seq_len = len(x)\n",
        "        out = []\n",
        "        for n in range(seq_len):\n",
        "            if n == 0:\n",
        "                h, c = self.cell(x[n], h0, c0)\n",
        "            else:\n",
        "                h, c = self.cell(x[n], h, c)\n",
        "            out.append(h)\n",
        "        out = torch.stack(out)\n",
        "        \n",
        "        return out, (h, c)   \n",
        "\n",
        "#blstm = BLSTM(in_features=1830)\n",
        "\n",
        "#out,(h,c)=blstm(x1)\n",
        "#c.shape"
      ],
      "execution_count": 1,
      "outputs": [
        {
          "output_type": "error",
          "ename": "NameError",
          "evalue": "ignored",
          "traceback": [
            "\u001b[0;31m---------------------------------------------------------------------------\u001b[0m",
            "\u001b[0;31mNameError\u001b[0m                                 Traceback (most recent call last)",
            "\u001b[0;32m<ipython-input-1-3cad64c52a33>\u001b[0m in \u001b[0;36m<module>\u001b[0;34m()\u001b[0m\n\u001b[1;32m      1\u001b[0m \u001b[0;34m\u001b[0m\u001b[0m\n\u001b[1;32m      2\u001b[0m \u001b[0;34m\u001b[0m\u001b[0m\n\u001b[0;32m----> 3\u001b[0;31m \u001b[0;32mclass\u001b[0m \u001b[0mBLSTM_Cell\u001b[0m\u001b[0;34m(\u001b[0m\u001b[0mnn\u001b[0m\u001b[0;34m.\u001b[0m\u001b[0mModule\u001b[0m\u001b[0;34m)\u001b[0m\u001b[0;34m:\u001b[0m \u001b[0;31m# new LSTM cell\u001b[0m\u001b[0;34m\u001b[0m\u001b[0;34m\u001b[0m\u001b[0m\n\u001b[0m\u001b[1;32m      4\u001b[0m     \u001b[0;32mdef\u001b[0m \u001b[0m__init__\u001b[0m\u001b[0;34m(\u001b[0m\u001b[0mself\u001b[0m\u001b[0;34m,\u001b[0m \u001b[0min_features\u001b[0m\u001b[0;34m=\u001b[0m\u001b[0;36m2200\u001b[0m\u001b[0;34m,\u001b[0m \u001b[0mhidden_features\u001b[0m\u001b[0;34m=\u001b[0m\u001b[0;36m4\u001b[0m\u001b[0;34m)\u001b[0m\u001b[0;34m:\u001b[0m\u001b[0;34m\u001b[0m\u001b[0;34m\u001b[0m\u001b[0m\n\u001b[1;32m      5\u001b[0m         \u001b[0msuper\u001b[0m\u001b[0;34m(\u001b[0m\u001b[0mBLSTM_Cell\u001b[0m\u001b[0;34m,\u001b[0m \u001b[0mself\u001b[0m\u001b[0;34m)\u001b[0m\u001b[0;34m.\u001b[0m\u001b[0m__init__\u001b[0m\u001b[0;34m(\u001b[0m\u001b[0;34m)\u001b[0m\u001b[0;34m\u001b[0m\u001b[0;34m\u001b[0m\u001b[0m\n",
            "\u001b[0;31mNameError\u001b[0m: name 'nn' is not defined"
          ]
        }
      ]
    },
    {
      "cell_type": "code",
      "metadata": {
        "id": "y3-AUQMpJeL1",
        "colab_type": "code",
        "colab": {}
      },
      "source": [
        "class MyModule(nn.Module):\n",
        "    def __init__(self):\n",
        "        super(MyModule, self).__init__()\n",
        "        self.lstm = BLSTM(in_features=2200,hidden_features=8 ) #defining features and hidden dimensions\n",
        "        self.linear= nn.Linear(8, 2)\n",
        "       \n",
        "\n",
        "    def forward(self, x):\n",
        "        out, (h, c) = self.lstm(x) # h,c are the last hidden and cell state; out has all the hidden states \n",
        "         #taking only the last hidden state for input\n",
        "        \n",
        "        x=self.linear(out)\n",
        "   \n",
        "        return x"
      ],
      "execution_count": 0,
      "outputs": []
    },
    {
      "cell_type": "code",
      "metadata": {
        "id": "f4tfeoIlpVvk",
        "colab_type": "code",
        "colab": {}
      },
      "source": [
        "#Define criterions like loss function and optimizer\n",
        "\n",
        "net = MyModule()\n",
        "criterion = nn.CrossEntropyLoss()\n",
        "optimizer = optim.AdamW(net.parameters(), lr=1e-3, weight_decay=1e-4)\n",
        "\n",
        "\n"
      ],
      "execution_count": 0,
      "outputs": []
    },
    {
      "cell_type": "code",
      "metadata": {
        "id": "sNONmhrDJC-3",
        "colab_type": "code",
        "outputId": "9b89d1dd-1d42-408b-965a-a93ccc5182c2",
        "colab": {
          "base_uri": "https://localhost:8080/",
          "height": 903
        }
      },
      "source": [
        "#x1 = torch.transpose(x1, 0, 1)\n",
        "#y1 = torch.transpose(y1, 0, 1)\n",
        "n_epoch=100\n",
        "#xv = torch.transpose(xv, 0, 1)\n",
        "#yv = torch.transpose(yv, 0, 1)\n",
        "steps = x1.shape[1] // batch_size\n",
        "valid_err_fin = 1\n",
        "\n",
        "\n",
        "for epoch in range(n_epoch):\n",
        "    print(valid_err_fin)\n",
        "    train_error = 0.\n",
        "    for step in range(steps):\n",
        "        X = x1[:, step * batch_size : (step + 1) * batch_size, :]\n",
        "        y = y1[:, step * batch_size : (step + 1) * batch_size]\n",
        "        y = y.reshape(-1).long()\n",
        "        \n",
        "        y_pred = net(X)\n",
        "       \n",
        "        #y_pred = y_pred.repeat(1, 1, 2)\n",
        "        #y_pred[:, :, 1] = 1 - y_pred[:, :, 0]\n",
        "        y_pred = y_pred.view(-1, 2)\n",
        "        \n",
        "        train_loss = criterion(y_pred, y)\n",
        "        optimizer.zero_grad()\n",
        "        train_loss.backward()\n",
        "        optimizer.step()\n",
        "        \n",
        "        train_error += train_loss.item()\n",
        "\n",
        "        \n",
        "    \n",
        "    step2s = xv.shape[1] // batch_size\n",
        "    valid_err=0.\n",
        "\n",
        "    miss_class=0\n",
        "    for step2 in range(step2s):\n",
        "\n",
        "        \n",
        "\n",
        "\n",
        "        Xv = xv[:, step2 * batch_size : (step2 + 1) * batch_size, :]\n",
        "        yvalid = yv[:, step2 * batch_size : (step2 + 1) * batch_size]\n",
        "        yvalid = yvalid.reshape(-1).long()\n",
        "    \n",
        "        y_pred2 = net(Xv)\n",
        "       \n",
        "    #y_pred = y_pred.repeat(1, 1, 2)\n",
        "    #y_pred[:, :, 1] = 1 - y_pred[:, :, 0]\n",
        "        y_pred2 = y_pred2.view(-1, 2)\n",
        "\n",
        "        y_pred2 = torch.argmax(y_pred2, dim=-1)\n",
        "        \n",
        "        valid_err+=sum(y_pred2!=yvalid)/(float(len(yvalid)))\n",
        "        \n",
        "\n",
        "        #valid_loss = criterion(y_pred2, y2)\n",
        "    #optimizer.zero_grad()\n",
        "    #train_loss.backward()\n",
        "    #optimizer.step2()\n",
        "    \n",
        "        #valid_error+=valid_loss.item()\n",
        "\n",
        "    valid_error=valid_err/step2s\n",
        "\n",
        "    if(valid_error<valid_err_fin):\n",
        "        valid_err_fin=valid_error\n",
        "        torch.save(net.state_dict(), 'checkpoint2.pth')\n",
        "    print(\"Epoch: {}, Training Error, {}, Valid Error, {}\".format(epoch, train_error/steps,valid_error))    \n",
        "    torch.save(net.state_dict(), 'checkpoint2.pth') \n",
        "\n",
        "    for g in optimizer.param_groups:\n",
        "        g['lr'] *= 0.95\n",
        "        print(\"LR: {}\".format(g['lr']))  \n",
        "    \n"
      ],
      "execution_count": 32,
      "outputs": [
        {
          "output_type": "stream",
          "text": [
            "1\n",
            "Epoch: 0, Training Error, 0.4669766277854979, Valid Error, 0.16371579468250275\n",
            "LR: 0.00095\n",
            "tensor(0.1637)\n",
            "Epoch: 1, Training Error, 0.3904727639640189, Valid Error, 0.16337384283542633\n",
            "LR: 0.0009025\n",
            "tensor(0.1634)\n",
            "Epoch: 2, Training Error, 0.3350461964051761, Valid Error, 0.15664894878864288\n",
            "LR: 0.000857375\n",
            "tensor(0.1566)\n",
            "Epoch: 3, Training Error, 0.3098528805671562, Valid Error, 0.15661095082759857\n",
            "LR: 0.0008145062499999999\n",
            "tensor(0.1566)\n",
            "Epoch: 4, Training Error, 0.29220307801718487, Valid Error, 0.15908055007457733\n",
            "LR: 0.0007737809374999998\n",
            "tensor(0.1566)\n",
            "Epoch: 5, Training Error, 0.2788712754845619, Valid Error, 0.16287992894649506\n",
            "LR: 0.0007350918906249997\n",
            "tensor(0.1566)\n",
            "Epoch: 6, Training Error, 0.26756067819776336, Valid Error, 0.1659574657678604\n",
            "LR: 0.0006983372960937497\n",
            "tensor(0.1566)\n",
            "Epoch: 7, Training Error, 0.2569049034287168, Valid Error, 0.1688070148229599\n",
            "LR: 0.0006634204312890621\n",
            "tensor(0.1566)\n",
            "Epoch: 8, Training Error, 0.2465660987100052, Valid Error, 0.17146654427051544\n",
            "LR: 0.000630249409724609\n",
            "tensor(0.1566)\n"
          ],
          "name": "stdout"
        },
        {
          "output_type": "error",
          "ename": "KeyboardInterrupt",
          "evalue": "ignored",
          "traceback": [
            "\u001b[0;31m---------------------------------------------------------------------------\u001b[0m",
            "\u001b[0;31mKeyboardInterrupt\u001b[0m                         Traceback (most recent call last)",
            "\u001b[0;32m<ipython-input-32-0d6333e62136>\u001b[0m in \u001b[0;36m<module>\u001b[0;34m()\u001b[0m\n\u001b[1;32m     14\u001b[0m         \u001b[0my\u001b[0m \u001b[0;34m=\u001b[0m \u001b[0my\u001b[0m\u001b[0;34m.\u001b[0m\u001b[0mreshape\u001b[0m\u001b[0;34m(\u001b[0m\u001b[0;34m-\u001b[0m\u001b[0;36m1\u001b[0m\u001b[0;34m)\u001b[0m\u001b[0;34m.\u001b[0m\u001b[0mlong\u001b[0m\u001b[0;34m(\u001b[0m\u001b[0;34m)\u001b[0m\u001b[0;34m\u001b[0m\u001b[0;34m\u001b[0m\u001b[0m\n\u001b[1;32m     15\u001b[0m \u001b[0;34m\u001b[0m\u001b[0m\n\u001b[0;32m---> 16\u001b[0;31m         \u001b[0my_pred\u001b[0m \u001b[0;34m=\u001b[0m \u001b[0mnet\u001b[0m\u001b[0;34m(\u001b[0m\u001b[0mX\u001b[0m\u001b[0;34m)\u001b[0m\u001b[0;34m\u001b[0m\u001b[0;34m\u001b[0m\u001b[0m\n\u001b[0m\u001b[1;32m     17\u001b[0m \u001b[0;34m\u001b[0m\u001b[0m\n\u001b[1;32m     18\u001b[0m         \u001b[0;31m#y_pred = y_pred.repeat(1, 1, 2)\u001b[0m\u001b[0;34m\u001b[0m\u001b[0;34m\u001b[0m\u001b[0;34m\u001b[0m\u001b[0m\n",
            "\u001b[0;32m/usr/local/lib/python3.6/dist-packages/torch/nn/modules/module.py\u001b[0m in \u001b[0;36m__call__\u001b[0;34m(self, *input, **kwargs)\u001b[0m\n\u001b[1;32m    530\u001b[0m             \u001b[0mresult\u001b[0m \u001b[0;34m=\u001b[0m \u001b[0mself\u001b[0m\u001b[0;34m.\u001b[0m\u001b[0m_slow_forward\u001b[0m\u001b[0;34m(\u001b[0m\u001b[0;34m*\u001b[0m\u001b[0minput\u001b[0m\u001b[0;34m,\u001b[0m \u001b[0;34m**\u001b[0m\u001b[0mkwargs\u001b[0m\u001b[0;34m)\u001b[0m\u001b[0;34m\u001b[0m\u001b[0;34m\u001b[0m\u001b[0m\n\u001b[1;32m    531\u001b[0m         \u001b[0;32melse\u001b[0m\u001b[0;34m:\u001b[0m\u001b[0;34m\u001b[0m\u001b[0;34m\u001b[0m\u001b[0m\n\u001b[0;32m--> 532\u001b[0;31m             \u001b[0mresult\u001b[0m \u001b[0;34m=\u001b[0m \u001b[0mself\u001b[0m\u001b[0;34m.\u001b[0m\u001b[0mforward\u001b[0m\u001b[0;34m(\u001b[0m\u001b[0;34m*\u001b[0m\u001b[0minput\u001b[0m\u001b[0;34m,\u001b[0m \u001b[0;34m**\u001b[0m\u001b[0mkwargs\u001b[0m\u001b[0;34m)\u001b[0m\u001b[0;34m\u001b[0m\u001b[0;34m\u001b[0m\u001b[0m\n\u001b[0m\u001b[1;32m    533\u001b[0m         \u001b[0;32mfor\u001b[0m \u001b[0mhook\u001b[0m \u001b[0;32min\u001b[0m \u001b[0mself\u001b[0m\u001b[0;34m.\u001b[0m\u001b[0m_forward_hooks\u001b[0m\u001b[0;34m.\u001b[0m\u001b[0mvalues\u001b[0m\u001b[0;34m(\u001b[0m\u001b[0;34m)\u001b[0m\u001b[0;34m:\u001b[0m\u001b[0;34m\u001b[0m\u001b[0;34m\u001b[0m\u001b[0m\n\u001b[1;32m    534\u001b[0m             \u001b[0mhook_result\u001b[0m \u001b[0;34m=\u001b[0m \u001b[0mhook\u001b[0m\u001b[0;34m(\u001b[0m\u001b[0mself\u001b[0m\u001b[0;34m,\u001b[0m \u001b[0minput\u001b[0m\u001b[0;34m,\u001b[0m \u001b[0mresult\u001b[0m\u001b[0;34m)\u001b[0m\u001b[0;34m\u001b[0m\u001b[0;34m\u001b[0m\u001b[0m\n",
            "\u001b[0;32m<ipython-input-30-34d8ae1364a7>\u001b[0m in \u001b[0;36mforward\u001b[0;34m(self, x)\u001b[0m\n\u001b[1;32m      7\u001b[0m \u001b[0;34m\u001b[0m\u001b[0m\n\u001b[1;32m      8\u001b[0m     \u001b[0;32mdef\u001b[0m \u001b[0mforward\u001b[0m\u001b[0;34m(\u001b[0m\u001b[0mself\u001b[0m\u001b[0;34m,\u001b[0m \u001b[0mx\u001b[0m\u001b[0;34m)\u001b[0m\u001b[0;34m:\u001b[0m\u001b[0;34m\u001b[0m\u001b[0;34m\u001b[0m\u001b[0m\n\u001b[0;32m----> 9\u001b[0;31m         \u001b[0mout\u001b[0m\u001b[0;34m,\u001b[0m \u001b[0;34m(\u001b[0m\u001b[0mh\u001b[0m\u001b[0;34m,\u001b[0m \u001b[0mc\u001b[0m\u001b[0;34m)\u001b[0m \u001b[0;34m=\u001b[0m \u001b[0mself\u001b[0m\u001b[0;34m.\u001b[0m\u001b[0mlstm\u001b[0m\u001b[0;34m(\u001b[0m\u001b[0mx\u001b[0m\u001b[0;34m)\u001b[0m \u001b[0;31m# h,c are the last hidden and cell state; out has all the hidden states\u001b[0m\u001b[0;34m\u001b[0m\u001b[0;34m\u001b[0m\u001b[0m\n\u001b[0m\u001b[1;32m     10\u001b[0m          \u001b[0;31m#taking only the last hidden state for input\u001b[0m\u001b[0;34m\u001b[0m\u001b[0;34m\u001b[0m\u001b[0;34m\u001b[0m\u001b[0m\n\u001b[1;32m     11\u001b[0m \u001b[0;34m\u001b[0m\u001b[0m\n",
            "\u001b[0;32m/usr/local/lib/python3.6/dist-packages/torch/nn/modules/module.py\u001b[0m in \u001b[0;36m__call__\u001b[0;34m(self, *input, **kwargs)\u001b[0m\n\u001b[1;32m    530\u001b[0m             \u001b[0mresult\u001b[0m \u001b[0;34m=\u001b[0m \u001b[0mself\u001b[0m\u001b[0;34m.\u001b[0m\u001b[0m_slow_forward\u001b[0m\u001b[0;34m(\u001b[0m\u001b[0;34m*\u001b[0m\u001b[0minput\u001b[0m\u001b[0;34m,\u001b[0m \u001b[0;34m**\u001b[0m\u001b[0mkwargs\u001b[0m\u001b[0;34m)\u001b[0m\u001b[0;34m\u001b[0m\u001b[0;34m\u001b[0m\u001b[0m\n\u001b[1;32m    531\u001b[0m         \u001b[0;32melse\u001b[0m\u001b[0;34m:\u001b[0m\u001b[0;34m\u001b[0m\u001b[0;34m\u001b[0m\u001b[0m\n\u001b[0;32m--> 532\u001b[0;31m             \u001b[0mresult\u001b[0m \u001b[0;34m=\u001b[0m \u001b[0mself\u001b[0m\u001b[0;34m.\u001b[0m\u001b[0mforward\u001b[0m\u001b[0;34m(\u001b[0m\u001b[0;34m*\u001b[0m\u001b[0minput\u001b[0m\u001b[0;34m,\u001b[0m \u001b[0;34m**\u001b[0m\u001b[0mkwargs\u001b[0m\u001b[0;34m)\u001b[0m\u001b[0;34m\u001b[0m\u001b[0;34m\u001b[0m\u001b[0m\n\u001b[0m\u001b[1;32m    533\u001b[0m         \u001b[0;32mfor\u001b[0m \u001b[0mhook\u001b[0m \u001b[0;32min\u001b[0m \u001b[0mself\u001b[0m\u001b[0;34m.\u001b[0m\u001b[0m_forward_hooks\u001b[0m\u001b[0;34m.\u001b[0m\u001b[0mvalues\u001b[0m\u001b[0;34m(\u001b[0m\u001b[0;34m)\u001b[0m\u001b[0;34m:\u001b[0m\u001b[0;34m\u001b[0m\u001b[0;34m\u001b[0m\u001b[0m\n\u001b[1;32m    534\u001b[0m             \u001b[0mhook_result\u001b[0m \u001b[0;34m=\u001b[0m \u001b[0mhook\u001b[0m\u001b[0;34m(\u001b[0m\u001b[0mself\u001b[0m\u001b[0;34m,\u001b[0m \u001b[0minput\u001b[0m\u001b[0;34m,\u001b[0m \u001b[0mresult\u001b[0m\u001b[0;34m)\u001b[0m\u001b[0;34m\u001b[0m\u001b[0;34m\u001b[0m\u001b[0m\n",
            "\u001b[0;32m<ipython-input-29-644f372fe120>\u001b[0m in \u001b[0;36mforward\u001b[0;34m(self, x, h0, c0)\u001b[0m\n\u001b[1;32m     54\u001b[0m                 \u001b[0mh\u001b[0m\u001b[0;34m,\u001b[0m \u001b[0mc\u001b[0m \u001b[0;34m=\u001b[0m \u001b[0mself\u001b[0m\u001b[0;34m.\u001b[0m\u001b[0mcell\u001b[0m\u001b[0;34m(\u001b[0m\u001b[0mx\u001b[0m\u001b[0;34m[\u001b[0m\u001b[0mn\u001b[0m\u001b[0;34m]\u001b[0m\u001b[0;34m,\u001b[0m \u001b[0mh0\u001b[0m\u001b[0;34m,\u001b[0m \u001b[0mc0\u001b[0m\u001b[0;34m)\u001b[0m\u001b[0;34m\u001b[0m\u001b[0;34m\u001b[0m\u001b[0m\n\u001b[1;32m     55\u001b[0m             \u001b[0;32melse\u001b[0m\u001b[0;34m:\u001b[0m\u001b[0;34m\u001b[0m\u001b[0;34m\u001b[0m\u001b[0m\n\u001b[0;32m---> 56\u001b[0;31m                 \u001b[0mh\u001b[0m\u001b[0;34m,\u001b[0m \u001b[0mc\u001b[0m \u001b[0;34m=\u001b[0m \u001b[0mself\u001b[0m\u001b[0;34m.\u001b[0m\u001b[0mcell\u001b[0m\u001b[0;34m(\u001b[0m\u001b[0mx\u001b[0m\u001b[0;34m[\u001b[0m\u001b[0mn\u001b[0m\u001b[0;34m]\u001b[0m\u001b[0;34m,\u001b[0m \u001b[0mh\u001b[0m\u001b[0;34m,\u001b[0m \u001b[0mc\u001b[0m\u001b[0;34m)\u001b[0m\u001b[0;34m\u001b[0m\u001b[0;34m\u001b[0m\u001b[0m\n\u001b[0m\u001b[1;32m     57\u001b[0m             \u001b[0mout\u001b[0m\u001b[0;34m.\u001b[0m\u001b[0mappend\u001b[0m\u001b[0;34m(\u001b[0m\u001b[0mh\u001b[0m\u001b[0;34m)\u001b[0m\u001b[0;34m\u001b[0m\u001b[0;34m\u001b[0m\u001b[0m\n\u001b[1;32m     58\u001b[0m         \u001b[0mout\u001b[0m \u001b[0;34m=\u001b[0m \u001b[0mtorch\u001b[0m\u001b[0;34m.\u001b[0m\u001b[0mstack\u001b[0m\u001b[0;34m(\u001b[0m\u001b[0mout\u001b[0m\u001b[0;34m)\u001b[0m\u001b[0;34m\u001b[0m\u001b[0;34m\u001b[0m\u001b[0m\n",
            "\u001b[0;32m/usr/local/lib/python3.6/dist-packages/torch/nn/modules/module.py\u001b[0m in \u001b[0;36m__call__\u001b[0;34m(self, *input, **kwargs)\u001b[0m\n\u001b[1;32m    530\u001b[0m             \u001b[0mresult\u001b[0m \u001b[0;34m=\u001b[0m \u001b[0mself\u001b[0m\u001b[0;34m.\u001b[0m\u001b[0m_slow_forward\u001b[0m\u001b[0;34m(\u001b[0m\u001b[0;34m*\u001b[0m\u001b[0minput\u001b[0m\u001b[0;34m,\u001b[0m \u001b[0;34m**\u001b[0m\u001b[0mkwargs\u001b[0m\u001b[0;34m)\u001b[0m\u001b[0;34m\u001b[0m\u001b[0;34m\u001b[0m\u001b[0m\n\u001b[1;32m    531\u001b[0m         \u001b[0;32melse\u001b[0m\u001b[0;34m:\u001b[0m\u001b[0;34m\u001b[0m\u001b[0;34m\u001b[0m\u001b[0m\n\u001b[0;32m--> 532\u001b[0;31m             \u001b[0mresult\u001b[0m \u001b[0;34m=\u001b[0m \u001b[0mself\u001b[0m\u001b[0;34m.\u001b[0m\u001b[0mforward\u001b[0m\u001b[0;34m(\u001b[0m\u001b[0;34m*\u001b[0m\u001b[0minput\u001b[0m\u001b[0;34m,\u001b[0m \u001b[0;34m**\u001b[0m\u001b[0mkwargs\u001b[0m\u001b[0;34m)\u001b[0m\u001b[0;34m\u001b[0m\u001b[0;34m\u001b[0m\u001b[0m\n\u001b[0m\u001b[1;32m    533\u001b[0m         \u001b[0;32mfor\u001b[0m \u001b[0mhook\u001b[0m \u001b[0;32min\u001b[0m \u001b[0mself\u001b[0m\u001b[0;34m.\u001b[0m\u001b[0m_forward_hooks\u001b[0m\u001b[0;34m.\u001b[0m\u001b[0mvalues\u001b[0m\u001b[0;34m(\u001b[0m\u001b[0;34m)\u001b[0m\u001b[0;34m:\u001b[0m\u001b[0;34m\u001b[0m\u001b[0;34m\u001b[0m\u001b[0m\n\u001b[1;32m    534\u001b[0m             \u001b[0mhook_result\u001b[0m \u001b[0;34m=\u001b[0m \u001b[0mhook\u001b[0m\u001b[0;34m(\u001b[0m\u001b[0mself\u001b[0m\u001b[0;34m,\u001b[0m \u001b[0minput\u001b[0m\u001b[0;34m,\u001b[0m \u001b[0mresult\u001b[0m\u001b[0;34m)\u001b[0m\u001b[0;34m\u001b[0m\u001b[0;34m\u001b[0m\u001b[0m\n",
            "\u001b[0;32m<ipython-input-29-644f372fe120>\u001b[0m in \u001b[0;36mforward\u001b[0;34m(self, x, h, c)\u001b[0m\n\u001b[1;32m     23\u001b[0m \u001b[0;34m\u001b[0m\u001b[0m\n\u001b[1;32m     24\u001b[0m         \u001b[0mxh\u001b[0m \u001b[0;34m=\u001b[0m \u001b[0mself\u001b[0m\u001b[0;34m.\u001b[0m\u001b[0mWxh\u001b[0m\u001b[0;34m(\u001b[0m\u001b[0mxh\u001b[0m\u001b[0;34m)\u001b[0m\u001b[0;34m\u001b[0m\u001b[0;34m\u001b[0m\u001b[0m\n\u001b[0;32m---> 25\u001b[0;31m         \u001b[0mxd\u001b[0m \u001b[0;34m=\u001b[0m \u001b[0mself\u001b[0m\u001b[0;34m.\u001b[0m\u001b[0mWxd\u001b[0m\u001b[0;34m(\u001b[0m\u001b[0mxd\u001b[0m\u001b[0;34m)\u001b[0m\u001b[0;34m\u001b[0m\u001b[0;34m\u001b[0m\u001b[0m\n\u001b[0m\u001b[1;32m     26\u001b[0m         \u001b[0mxa\u001b[0m \u001b[0;34m=\u001b[0m \u001b[0mself\u001b[0m\u001b[0;34m.\u001b[0m\u001b[0mWxa\u001b[0m\u001b[0;34m(\u001b[0m\u001b[0mxa\u001b[0m\u001b[0;34m)\u001b[0m\u001b[0;34m\u001b[0m\u001b[0;34m\u001b[0m\u001b[0m\n\u001b[1;32m     27\u001b[0m \u001b[0;34m\u001b[0m\u001b[0m\n",
            "\u001b[0;32m/usr/local/lib/python3.6/dist-packages/torch/nn/modules/module.py\u001b[0m in \u001b[0;36m__call__\u001b[0;34m(self, *input, **kwargs)\u001b[0m\n\u001b[1;32m    530\u001b[0m             \u001b[0mresult\u001b[0m \u001b[0;34m=\u001b[0m \u001b[0mself\u001b[0m\u001b[0;34m.\u001b[0m\u001b[0m_slow_forward\u001b[0m\u001b[0;34m(\u001b[0m\u001b[0;34m*\u001b[0m\u001b[0minput\u001b[0m\u001b[0;34m,\u001b[0m \u001b[0;34m**\u001b[0m\u001b[0mkwargs\u001b[0m\u001b[0;34m)\u001b[0m\u001b[0;34m\u001b[0m\u001b[0;34m\u001b[0m\u001b[0m\n\u001b[1;32m    531\u001b[0m         \u001b[0;32melse\u001b[0m\u001b[0;34m:\u001b[0m\u001b[0;34m\u001b[0m\u001b[0;34m\u001b[0m\u001b[0m\n\u001b[0;32m--> 532\u001b[0;31m             \u001b[0mresult\u001b[0m \u001b[0;34m=\u001b[0m \u001b[0mself\u001b[0m\u001b[0;34m.\u001b[0m\u001b[0mforward\u001b[0m\u001b[0;34m(\u001b[0m\u001b[0;34m*\u001b[0m\u001b[0minput\u001b[0m\u001b[0;34m,\u001b[0m \u001b[0;34m**\u001b[0m\u001b[0mkwargs\u001b[0m\u001b[0;34m)\u001b[0m\u001b[0;34m\u001b[0m\u001b[0;34m\u001b[0m\u001b[0m\n\u001b[0m\u001b[1;32m    533\u001b[0m         \u001b[0;32mfor\u001b[0m \u001b[0mhook\u001b[0m \u001b[0;32min\u001b[0m \u001b[0mself\u001b[0m\u001b[0;34m.\u001b[0m\u001b[0m_forward_hooks\u001b[0m\u001b[0;34m.\u001b[0m\u001b[0mvalues\u001b[0m\u001b[0;34m(\u001b[0m\u001b[0;34m)\u001b[0m\u001b[0;34m:\u001b[0m\u001b[0;34m\u001b[0m\u001b[0;34m\u001b[0m\u001b[0m\n\u001b[1;32m    534\u001b[0m             \u001b[0mhook_result\u001b[0m \u001b[0;34m=\u001b[0m \u001b[0mhook\u001b[0m\u001b[0;34m(\u001b[0m\u001b[0mself\u001b[0m\u001b[0;34m,\u001b[0m \u001b[0minput\u001b[0m\u001b[0;34m,\u001b[0m \u001b[0mresult\u001b[0m\u001b[0;34m)\u001b[0m\u001b[0;34m\u001b[0m\u001b[0;34m\u001b[0m\u001b[0m\n",
            "\u001b[0;32m/usr/local/lib/python3.6/dist-packages/torch/nn/modules/linear.py\u001b[0m in \u001b[0;36mforward\u001b[0;34m(self, input)\u001b[0m\n\u001b[1;32m     85\u001b[0m \u001b[0;34m\u001b[0m\u001b[0m\n\u001b[1;32m     86\u001b[0m     \u001b[0;32mdef\u001b[0m \u001b[0mforward\u001b[0m\u001b[0;34m(\u001b[0m\u001b[0mself\u001b[0m\u001b[0;34m,\u001b[0m \u001b[0minput\u001b[0m\u001b[0;34m)\u001b[0m\u001b[0;34m:\u001b[0m\u001b[0;34m\u001b[0m\u001b[0;34m\u001b[0m\u001b[0m\n\u001b[0;32m---> 87\u001b[0;31m         \u001b[0;32mreturn\u001b[0m \u001b[0mF\u001b[0m\u001b[0;34m.\u001b[0m\u001b[0mlinear\u001b[0m\u001b[0;34m(\u001b[0m\u001b[0minput\u001b[0m\u001b[0;34m,\u001b[0m \u001b[0mself\u001b[0m\u001b[0;34m.\u001b[0m\u001b[0mweight\u001b[0m\u001b[0;34m,\u001b[0m \u001b[0mself\u001b[0m\u001b[0;34m.\u001b[0m\u001b[0mbias\u001b[0m\u001b[0;34m)\u001b[0m\u001b[0;34m\u001b[0m\u001b[0;34m\u001b[0m\u001b[0m\n\u001b[0m\u001b[1;32m     88\u001b[0m \u001b[0;34m\u001b[0m\u001b[0m\n\u001b[1;32m     89\u001b[0m     \u001b[0;32mdef\u001b[0m \u001b[0mextra_repr\u001b[0m\u001b[0;34m(\u001b[0m\u001b[0mself\u001b[0m\u001b[0;34m)\u001b[0m\u001b[0;34m:\u001b[0m\u001b[0;34m\u001b[0m\u001b[0;34m\u001b[0m\u001b[0m\n",
            "\u001b[0;32m/usr/local/lib/python3.6/dist-packages/torch/nn/functional.py\u001b[0m in \u001b[0;36mlinear\u001b[0;34m(input, weight, bias)\u001b[0m\n\u001b[1;32m   1368\u001b[0m     \u001b[0;32mif\u001b[0m \u001b[0minput\u001b[0m\u001b[0;34m.\u001b[0m\u001b[0mdim\u001b[0m\u001b[0;34m(\u001b[0m\u001b[0;34m)\u001b[0m \u001b[0;34m==\u001b[0m \u001b[0;36m2\u001b[0m \u001b[0;32mand\u001b[0m \u001b[0mbias\u001b[0m \u001b[0;32mis\u001b[0m \u001b[0;32mnot\u001b[0m \u001b[0;32mNone\u001b[0m\u001b[0;34m:\u001b[0m\u001b[0;34m\u001b[0m\u001b[0;34m\u001b[0m\u001b[0m\n\u001b[1;32m   1369\u001b[0m         \u001b[0;31m# fused op is marginally faster\u001b[0m\u001b[0;34m\u001b[0m\u001b[0;34m\u001b[0m\u001b[0;34m\u001b[0m\u001b[0m\n\u001b[0;32m-> 1370\u001b[0;31m         \u001b[0mret\u001b[0m \u001b[0;34m=\u001b[0m \u001b[0mtorch\u001b[0m\u001b[0;34m.\u001b[0m\u001b[0maddmm\u001b[0m\u001b[0;34m(\u001b[0m\u001b[0mbias\u001b[0m\u001b[0;34m,\u001b[0m \u001b[0minput\u001b[0m\u001b[0;34m,\u001b[0m \u001b[0mweight\u001b[0m\u001b[0;34m.\u001b[0m\u001b[0mt\u001b[0m\u001b[0;34m(\u001b[0m\u001b[0;34m)\u001b[0m\u001b[0;34m)\u001b[0m\u001b[0;34m\u001b[0m\u001b[0;34m\u001b[0m\u001b[0m\n\u001b[0m\u001b[1;32m   1371\u001b[0m     \u001b[0;32melse\u001b[0m\u001b[0;34m:\u001b[0m\u001b[0;34m\u001b[0m\u001b[0;34m\u001b[0m\u001b[0m\n\u001b[1;32m   1372\u001b[0m         \u001b[0moutput\u001b[0m \u001b[0;34m=\u001b[0m \u001b[0minput\u001b[0m\u001b[0;34m.\u001b[0m\u001b[0mmatmul\u001b[0m\u001b[0;34m(\u001b[0m\u001b[0mweight\u001b[0m\u001b[0;34m.\u001b[0m\u001b[0mt\u001b[0m\u001b[0;34m(\u001b[0m\u001b[0;34m)\u001b[0m\u001b[0;34m)\u001b[0m\u001b[0;34m\u001b[0m\u001b[0;34m\u001b[0m\u001b[0m\n",
            "\u001b[0;31mKeyboardInterrupt\u001b[0m: "
          ]
        }
      ]
    },
    {
      "cell_type": "code",
      "metadata": {
        "id": "oSrncPmjJMpD",
        "colab_type": "code",
        "colab": {
          "base_uri": "https://localhost:8080/",
          "height": 907
        },
        "outputId": "93362b9b-ede7-45ac-f5e2-9bdccf0aedfe"
      },
      "source": [
        "net.load_state_dict(torch.load('checkpoint2.pth'))\n",
        "\n",
        "\n",
        "#testing Model\n",
        "\n",
        "x2=torch.ones([x_test.shape[0]-seq_length+1,seq_length,x_test.shape[1]])\n",
        "y2=torch.ones([(x_test.shape[0]-seq_length+1),seq_length])\n",
        "\n",
        "\n",
        "for i in range(x_test.shape[0]-seq_length+1):\n",
        "    x2[i] =  torch.tensor(x_test.iloc[i:i+seq_length, :].values)\n",
        "    y2[i] = torch.tensor(y_test.iloc[i:i+seq_length].values)\n",
        "\n",
        "#x2.shape\n",
        "y2 = y2[:, : ]\n",
        "x2 = torch.transpose(x2, 0, 1)\n",
        "y2 = torch.transpose(y2, 0, 1)\n",
        "\n",
        "\n",
        "\n",
        "step3s = x2.shape[1] // batch_size\n",
        "valid_err2=0.\n",
        "\n",
        "\n",
        "\n",
        "for step3 in range(step3s):\n",
        "   \n",
        "\n",
        "\n",
        "    X3 = x2[:, step3 * batch_size : (step3 + 1) * batch_size, :]\n",
        "    y3 = y2[:, step3 * batch_size : (step3 + 1) * batch_size]\n",
        "    y3 = y3.reshape(-1).long()\n",
        "    \n",
        "    y_pred3 = net(X3)\n",
        "       \n",
        "    #y_pred = y_pred.repeat(1, 1, 2)\n",
        "    #y_pred[:, :, 1] = 1 - y_pred[:, :, 0]\n",
        "    y_pred3 = y_pred3.view(-1, 2)\n",
        "\n",
        "    y_pred3 = torch.argmax(y_pred3, dim=-1)\n",
        "        \n",
        "    valid_err2+=sum(y_pred3!=y3)/(float(len(y3)))\n",
        "        \n",
        "\n",
        "        #valid_loss = criterion(y_pred2, y2)\n",
        "    #optimizer.zero_grad()\n",
        "    #train_loss.backward()\n",
        "    #optimizer.step2()\n",
        "    print(step3)\n",
        "        #valid_error+=valid_loss.item()\n",
        "\n",
        "valid_error2=valid_err2/step3s\n",
        "\n",
        "print(valid_error2)"
      ],
      "execution_count": 33,
      "outputs": [
        {
          "output_type": "stream",
          "text": [
            "0\n",
            "1\n",
            "2\n",
            "3\n",
            "4\n",
            "5\n",
            "6\n",
            "7\n",
            "8\n",
            "9\n",
            "10\n",
            "11\n",
            "12\n",
            "13\n",
            "14\n",
            "15\n",
            "16\n",
            "17\n",
            "18\n",
            "19\n",
            "20\n",
            "21\n",
            "22\n",
            "23\n",
            "24\n",
            "25\n",
            "26\n",
            "27\n",
            "28\n",
            "29\n",
            "30\n",
            "31\n",
            "32\n",
            "33\n",
            "34\n",
            "35\n",
            "36\n",
            "37\n",
            "38\n",
            "39\n",
            "40\n",
            "41\n",
            "42\n",
            "43\n",
            "44\n",
            "45\n",
            "46\n",
            "47\n",
            "tensor(0.1756)\n"
          ],
          "name": "stdout"
        }
      ]
    },
    {
      "cell_type": "code",
      "metadata": {
        "id": "fzWFJjYkrEXn",
        "colab_type": "code",
        "colab": {}
      },
      "source": [
        ""
      ],
      "execution_count": 0,
      "outputs": []
    }
  ]
}