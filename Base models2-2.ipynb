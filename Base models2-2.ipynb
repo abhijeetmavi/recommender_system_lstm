{
 "cells": [
  {
   "cell_type": "code",
   "execution_count": 1,
   "metadata": {},
   "outputs": [],
   "source": [
    "#Libraries\n",
    "import numpy as np \n",
    "import pandas as pd\n",
    "import matplotlib.pyplot as plt \n",
    "plt.rc(\"font\", size=14)\n",
    "import seaborn as sns\n",
    "sns.set(style=\"white\")\n",
    "sns.set(style=\"whitegrid\", color_codes=True)\n",
    "from sklearn.model_selection import train_test_split\n",
    "\n",
    "# Linear regression specific\n",
    "import sklearn \n",
    "from sklearn.linear_model import LinearRegression \n",
    "from sklearn import metrics\n",
    "%matplotlib inline\n",
    "import statistics as s\n",
    "\n",
    "# KNN specific\n",
    "from sklearn.datasets import load_breast_cancer\n",
    "from sklearn.metrics import confusion_matrix\n",
    "from sklearn.neighbors import KNeighborsClassifier\n",
    "sns.set()\n",
    "\n",
    "#Logistic regression specific\n",
    "from sklearn import preprocessing\n",
    "from sklearn.linear_model import LogisticRegression\n",
    "\n",
    "#Random Forest\n",
    "from sklearn.ensemble import RandomForestClassifier\n",
    "from sklearn.model_selection import cross_val_score\n",
    "from sklearn.metrics import classification_report, confusion_matrix"
   ]
  },
  {
   "cell_type": "markdown",
   "metadata": {},
   "source": [
    "CHANGE FOR OTHER DATASETS"
   ]
  },
  {
   "cell_type": "code",
   "execution_count": 2,
   "metadata": {},
   "outputs": [],
   "source": [
    "#reading data - referenced as m_train and m_test\n",
    "m_train = pd.read_csv('m_train2a.csv')\n",
    "m_test = pd.read_csv('m_test2a.csv')"
   ]
  },
  {
   "cell_type": "code",
   "execution_count": 3,
   "metadata": {},
   "outputs": [],
   "source": [
    "#reading data\n",
    "m_t = pd.read_csv('matrix_topic.csv')\n",
    "m_c = pd.read_csv('matrix_category.csv')"
   ]
  },
  {
   "cell_type": "code",
   "execution_count": 4,
   "metadata": {},
   "outputs": [
    {
     "name": "stdout",
     "output_type": "stream",
     "text": [
      "(44712, 1477)\n",
      "(5224, 1477)\n"
     ]
    }
   ],
   "source": [
    "print(m_train.shape)\n",
    "print(m_test.shape)"
   ]
  },
  {
   "cell_type": "code",
   "execution_count": 5,
   "metadata": {},
   "outputs": [
    {
     "data": {
      "text/plain": [
       "0"
      ]
     },
     "execution_count": 5,
     "metadata": {},
     "output_type": "execute_result"
    }
   ],
   "source": [
    "#Finding null values \n",
    "m_train.isnull().any().sum()"
   ]
  },
  {
   "cell_type": "code",
   "execution_count": 6,
   "metadata": {},
   "outputs": [
    {
     "data": {
      "text/plain": [
       "0"
      ]
     },
     "execution_count": 6,
     "metadata": {},
     "output_type": "execute_result"
    }
   ],
   "source": [
    "#Finding null values \n",
    "m_test.isnull().any().sum()"
   ]
  },
  {
   "cell_type": "code",
   "execution_count": 7,
   "metadata": {},
   "outputs": [],
   "source": [
    "#Adding Category and Topics informations\n",
    "m_test = pd.merge(m_test, m_c, on='document_id', how='left')\n",
    "m_train = pd.merge(m_train, m_c, on='document_id', how='left')\n",
    "m_test = pd.merge(m_test, m_t, on='document_id', how='left')\n",
    "m_train = pd.merge(m_train, m_t, on='document_id', how='left')"
   ]
  },
  {
   "cell_type": "code",
   "execution_count": 8,
   "metadata": {},
   "outputs": [
    {
     "name": "stdout",
     "output_type": "stream",
     "text": [
      "(44712, 1845)\n",
      "(5224, 1845)\n"
     ]
    }
   ],
   "source": [
    "print(m_train.shape)\n",
    "print(m_test.shape)"
   ]
  },
  {
   "cell_type": "code",
   "execution_count": 9,
   "metadata": {},
   "outputs": [],
   "source": [
    "#Deleting Unnecessary columns\n",
    "m_test = m_test.drop(['display_id', 'document_id','timestamp'], axis=1)\n",
    "m_train = m_train.drop(['display_id', 'document_id','timestamp'], axis=1)"
   ]
  },
  {
   "cell_type": "code",
   "execution_count": 10,
   "metadata": {},
   "outputs": [
    {
     "name": "stdout",
     "output_type": "stream",
     "text": [
      "(44712, 1842)\n",
      "(5224, 1842)\n"
     ]
    },
    {
     "data": {
      "text/html": [
       "<div>\n",
       "<style scoped>\n",
       "    .dataframe tbody tr th:only-of-type {\n",
       "        vertical-align: middle;\n",
       "    }\n",
       "\n",
       "    .dataframe tbody tr th {\n",
       "        vertical-align: top;\n",
       "    }\n",
       "\n",
       "    .dataframe thead th {\n",
       "        text-align: right;\n",
       "    }\n",
       "</style>\n",
       "<table border=\"1\" class=\"dataframe\">\n",
       "  <thead>\n",
       "    <tr style=\"text-align: right;\">\n",
       "      <th></th>\n",
       "      <th>weekday</th>\n",
       "      <th>User_pageviews_unique</th>\n",
       "      <th>User_pageviews</th>\n",
       "      <th>doc_read_count</th>\n",
       "      <th>source_read_count</th>\n",
       "      <th>publisher_read_count</th>\n",
       "      <th>user_doc_read_count</th>\n",
       "      <th>user_source_read_count</th>\n",
       "      <th>user_publisher_read_count</th>\n",
       "      <th>clicked</th>\n",
       "      <th>...</th>\n",
       "      <th>290</th>\n",
       "      <th>291</th>\n",
       "      <th>292</th>\n",
       "      <th>293</th>\n",
       "      <th>294</th>\n",
       "      <th>295</th>\n",
       "      <th>296</th>\n",
       "      <th>297</th>\n",
       "      <th>298</th>\n",
       "      <th>299</th>\n",
       "    </tr>\n",
       "  </thead>\n",
       "  <tbody>\n",
       "    <tr>\n",
       "      <th>0</th>\n",
       "      <td>0</td>\n",
       "      <td>26</td>\n",
       "      <td>26</td>\n",
       "      <td>0.0</td>\n",
       "      <td>0.0</td>\n",
       "      <td>0.0</td>\n",
       "      <td>0.0</td>\n",
       "      <td>0.0</td>\n",
       "      <td>0.0</td>\n",
       "      <td>0.0</td>\n",
       "      <td>...</td>\n",
       "      <td>0.0</td>\n",
       "      <td>0.0</td>\n",
       "      <td>0.0</td>\n",
       "      <td>0.0</td>\n",
       "      <td>0.0</td>\n",
       "      <td>0.0</td>\n",
       "      <td>0.0</td>\n",
       "      <td>0.0</td>\n",
       "      <td>0.0</td>\n",
       "      <td>0.0</td>\n",
       "    </tr>\n",
       "    <tr>\n",
       "      <th>1</th>\n",
       "      <td>0</td>\n",
       "      <td>26</td>\n",
       "      <td>26</td>\n",
       "      <td>0.0</td>\n",
       "      <td>0.0</td>\n",
       "      <td>0.0</td>\n",
       "      <td>0.0</td>\n",
       "      <td>0.0</td>\n",
       "      <td>0.0</td>\n",
       "      <td>0.0</td>\n",
       "      <td>...</td>\n",
       "      <td>NaN</td>\n",
       "      <td>NaN</td>\n",
       "      <td>NaN</td>\n",
       "      <td>NaN</td>\n",
       "      <td>NaN</td>\n",
       "      <td>NaN</td>\n",
       "      <td>NaN</td>\n",
       "      <td>NaN</td>\n",
       "      <td>NaN</td>\n",
       "      <td>NaN</td>\n",
       "    </tr>\n",
       "    <tr>\n",
       "      <th>2</th>\n",
       "      <td>0</td>\n",
       "      <td>26</td>\n",
       "      <td>26</td>\n",
       "      <td>0.0</td>\n",
       "      <td>0.0</td>\n",
       "      <td>0.0</td>\n",
       "      <td>0.0</td>\n",
       "      <td>0.0</td>\n",
       "      <td>0.0</td>\n",
       "      <td>1.0</td>\n",
       "      <td>...</td>\n",
       "      <td>NaN</td>\n",
       "      <td>NaN</td>\n",
       "      <td>NaN</td>\n",
       "      <td>NaN</td>\n",
       "      <td>NaN</td>\n",
       "      <td>NaN</td>\n",
       "      <td>NaN</td>\n",
       "      <td>NaN</td>\n",
       "      <td>NaN</td>\n",
       "      <td>NaN</td>\n",
       "    </tr>\n",
       "    <tr>\n",
       "      <th>3</th>\n",
       "      <td>0</td>\n",
       "      <td>46</td>\n",
       "      <td>47</td>\n",
       "      <td>0.0</td>\n",
       "      <td>0.0</td>\n",
       "      <td>0.0</td>\n",
       "      <td>0.0</td>\n",
       "      <td>0.0</td>\n",
       "      <td>0.0</td>\n",
       "      <td>0.0</td>\n",
       "      <td>...</td>\n",
       "      <td>NaN</td>\n",
       "      <td>NaN</td>\n",
       "      <td>NaN</td>\n",
       "      <td>NaN</td>\n",
       "      <td>NaN</td>\n",
       "      <td>NaN</td>\n",
       "      <td>NaN</td>\n",
       "      <td>NaN</td>\n",
       "      <td>NaN</td>\n",
       "      <td>NaN</td>\n",
       "    </tr>\n",
       "    <tr>\n",
       "      <th>4</th>\n",
       "      <td>0</td>\n",
       "      <td>46</td>\n",
       "      <td>47</td>\n",
       "      <td>0.0</td>\n",
       "      <td>0.0</td>\n",
       "      <td>0.0</td>\n",
       "      <td>0.0</td>\n",
       "      <td>0.0</td>\n",
       "      <td>0.0</td>\n",
       "      <td>0.0</td>\n",
       "      <td>...</td>\n",
       "      <td>NaN</td>\n",
       "      <td>NaN</td>\n",
       "      <td>NaN</td>\n",
       "      <td>NaN</td>\n",
       "      <td>NaN</td>\n",
       "      <td>NaN</td>\n",
       "      <td>NaN</td>\n",
       "      <td>NaN</td>\n",
       "      <td>NaN</td>\n",
       "      <td>NaN</td>\n",
       "    </tr>\n",
       "  </tbody>\n",
       "</table>\n",
       "<p>5 rows × 1842 columns</p>\n",
       "</div>"
      ],
      "text/plain": [
       "   weekday  User_pageviews_unique  User_pageviews  doc_read_count  \\\n",
       "0        0                     26              26             0.0   \n",
       "1        0                     26              26             0.0   \n",
       "2        0                     26              26             0.0   \n",
       "3        0                     46              47             0.0   \n",
       "4        0                     46              47             0.0   \n",
       "\n",
       "   source_read_count  publisher_read_count  user_doc_read_count  \\\n",
       "0                0.0                   0.0                  0.0   \n",
       "1                0.0                   0.0                  0.0   \n",
       "2                0.0                   0.0                  0.0   \n",
       "3                0.0                   0.0                  0.0   \n",
       "4                0.0                   0.0                  0.0   \n",
       "\n",
       "   user_source_read_count  user_publisher_read_count  clicked  ...  290  291  \\\n",
       "0                     0.0                        0.0      0.0  ...  0.0  0.0   \n",
       "1                     0.0                        0.0      0.0  ...  NaN  NaN   \n",
       "2                     0.0                        0.0      1.0  ...  NaN  NaN   \n",
       "3                     0.0                        0.0      0.0  ...  NaN  NaN   \n",
       "4                     0.0                        0.0      0.0  ...  NaN  NaN   \n",
       "\n",
       "   292  293  294  295  296  297  298  299  \n",
       "0  0.0  0.0  0.0  0.0  0.0  0.0  0.0  0.0  \n",
       "1  NaN  NaN  NaN  NaN  NaN  NaN  NaN  NaN  \n",
       "2  NaN  NaN  NaN  NaN  NaN  NaN  NaN  NaN  \n",
       "3  NaN  NaN  NaN  NaN  NaN  NaN  NaN  NaN  \n",
       "4  NaN  NaN  NaN  NaN  NaN  NaN  NaN  NaN  \n",
       "\n",
       "[5 rows x 1842 columns]"
      ]
     },
     "execution_count": 10,
     "metadata": {},
     "output_type": "execute_result"
    }
   ],
   "source": [
    "# Final data to be sued for base models -\n",
    "print(m_train.shape)\n",
    "print(m_test.shape)\n",
    "m_test.head()"
   ]
  },
  {
   "cell_type": "code",
   "execution_count": 11,
   "metadata": {},
   "outputs": [],
   "source": [
    "# Splitting test further into validation and testing set\n",
    "# For now 10% validation and 10% testing in order to maintain sequence\n",
    "total = m_test.shape[0]\n",
    "splitratio = 0.5\n",
    "n = int(round((total * splitratio),0))\n",
    "\n",
    "m_val = m_test[0:n]\n",
    "m_test = m_test.iloc[n:] # testing data with 10% only"
   ]
  },
  {
   "cell_type": "code",
   "execution_count": 12,
   "metadata": {},
   "outputs": [
    {
     "name": "stdout",
     "output_type": "stream",
     "text": [
      "(2612, 1842) (2612, 1842)\n"
     ]
    }
   ],
   "source": [
    "print(m_val.shape, m_test.shape)"
   ]
  },
  {
   "cell_type": "markdown",
   "metadata": {},
   "source": [
    "### SPLITTING DATA"
   ]
  },
  {
   "cell_type": "code",
   "execution_count": 13,
   "metadata": {},
   "outputs": [],
   "source": [
    "#X-Y split \n",
    "y_train = m_train['clicked']\n",
    "x_train = m_train.loc[:, m_train.columns != 'clicked']\n",
    "y_val = m_val['clicked']\n",
    "x_val = m_val.loc[:, m_val.columns != 'clicked']\n",
    "y_test = m_test['clicked']\n",
    "x_test = m_test.loc[:, m_test.columns != 'clicked']"
   ]
  },
  {
   "cell_type": "code",
   "execution_count": 14,
   "metadata": {},
   "outputs": [
    {
     "name": "stdout",
     "output_type": "stream",
     "text": [
      "(44712, 1841) (44712,) (2612, 1841) (2612,) (2612, 1841) (2612,)\n"
     ]
    },
    {
     "data": {
      "text/html": [
       "<div>\n",
       "<style scoped>\n",
       "    .dataframe tbody tr th:only-of-type {\n",
       "        vertical-align: middle;\n",
       "    }\n",
       "\n",
       "    .dataframe tbody tr th {\n",
       "        vertical-align: top;\n",
       "    }\n",
       "\n",
       "    .dataframe thead th {\n",
       "        text-align: right;\n",
       "    }\n",
       "</style>\n",
       "<table border=\"1\" class=\"dataframe\">\n",
       "  <thead>\n",
       "    <tr style=\"text-align: right;\">\n",
       "      <th></th>\n",
       "      <th>weekday</th>\n",
       "      <th>User_pageviews_unique</th>\n",
       "      <th>User_pageviews</th>\n",
       "      <th>doc_read_count</th>\n",
       "      <th>source_read_count</th>\n",
       "      <th>publisher_read_count</th>\n",
       "      <th>user_doc_read_count</th>\n",
       "      <th>user_source_read_count</th>\n",
       "      <th>user_publisher_read_count</th>\n",
       "      <th>uuid_1006f3f5197379</th>\n",
       "      <th>...</th>\n",
       "      <th>290</th>\n",
       "      <th>291</th>\n",
       "      <th>292</th>\n",
       "      <th>293</th>\n",
       "      <th>294</th>\n",
       "      <th>295</th>\n",
       "      <th>296</th>\n",
       "      <th>297</th>\n",
       "      <th>298</th>\n",
       "      <th>299</th>\n",
       "    </tr>\n",
       "  </thead>\n",
       "  <tbody>\n",
       "    <tr>\n",
       "      <th>0</th>\n",
       "      <td>0</td>\n",
       "      <td>46</td>\n",
       "      <td>46</td>\n",
       "      <td>4.0</td>\n",
       "      <td>83.0</td>\n",
       "      <td>90.0</td>\n",
       "      <td>1.0</td>\n",
       "      <td>10.0</td>\n",
       "      <td>11.0</td>\n",
       "      <td>0</td>\n",
       "      <td>...</td>\n",
       "      <td>0.0</td>\n",
       "      <td>0.0</td>\n",
       "      <td>0.0</td>\n",
       "      <td>0.0</td>\n",
       "      <td>0.0</td>\n",
       "      <td>0.0</td>\n",
       "      <td>0.0</td>\n",
       "      <td>0.0</td>\n",
       "      <td>0.0</td>\n",
       "      <td>0.0</td>\n",
       "    </tr>\n",
       "    <tr>\n",
       "      <th>1</th>\n",
       "      <td>0</td>\n",
       "      <td>46</td>\n",
       "      <td>46</td>\n",
       "      <td>0.0</td>\n",
       "      <td>0.0</td>\n",
       "      <td>0.0</td>\n",
       "      <td>0.0</td>\n",
       "      <td>0.0</td>\n",
       "      <td>0.0</td>\n",
       "      <td>0</td>\n",
       "      <td>...</td>\n",
       "      <td>NaN</td>\n",
       "      <td>NaN</td>\n",
       "      <td>NaN</td>\n",
       "      <td>NaN</td>\n",
       "      <td>NaN</td>\n",
       "      <td>NaN</td>\n",
       "      <td>NaN</td>\n",
       "      <td>NaN</td>\n",
       "      <td>NaN</td>\n",
       "      <td>NaN</td>\n",
       "    </tr>\n",
       "    <tr>\n",
       "      <th>2</th>\n",
       "      <td>0</td>\n",
       "      <td>46</td>\n",
       "      <td>46</td>\n",
       "      <td>0.0</td>\n",
       "      <td>0.0</td>\n",
       "      <td>0.0</td>\n",
       "      <td>0.0</td>\n",
       "      <td>0.0</td>\n",
       "      <td>0.0</td>\n",
       "      <td>0</td>\n",
       "      <td>...</td>\n",
       "      <td>0.0</td>\n",
       "      <td>0.0</td>\n",
       "      <td>0.0</td>\n",
       "      <td>0.0</td>\n",
       "      <td>0.0</td>\n",
       "      <td>0.0</td>\n",
       "      <td>0.0</td>\n",
       "      <td>0.0</td>\n",
       "      <td>0.0</td>\n",
       "      <td>0.0</td>\n",
       "    </tr>\n",
       "    <tr>\n",
       "      <th>3</th>\n",
       "      <td>0</td>\n",
       "      <td>46</td>\n",
       "      <td>46</td>\n",
       "      <td>0.0</td>\n",
       "      <td>0.0</td>\n",
       "      <td>0.0</td>\n",
       "      <td>0.0</td>\n",
       "      <td>0.0</td>\n",
       "      <td>0.0</td>\n",
       "      <td>0</td>\n",
       "      <td>...</td>\n",
       "      <td>NaN</td>\n",
       "      <td>NaN</td>\n",
       "      <td>NaN</td>\n",
       "      <td>NaN</td>\n",
       "      <td>NaN</td>\n",
       "      <td>NaN</td>\n",
       "      <td>NaN</td>\n",
       "      <td>NaN</td>\n",
       "      <td>NaN</td>\n",
       "      <td>NaN</td>\n",
       "    </tr>\n",
       "    <tr>\n",
       "      <th>4</th>\n",
       "      <td>0</td>\n",
       "      <td>46</td>\n",
       "      <td>46</td>\n",
       "      <td>0.0</td>\n",
       "      <td>0.0</td>\n",
       "      <td>0.0</td>\n",
       "      <td>0.0</td>\n",
       "      <td>0.0</td>\n",
       "      <td>0.0</td>\n",
       "      <td>0</td>\n",
       "      <td>...</td>\n",
       "      <td>NaN</td>\n",
       "      <td>NaN</td>\n",
       "      <td>NaN</td>\n",
       "      <td>NaN</td>\n",
       "      <td>NaN</td>\n",
       "      <td>NaN</td>\n",
       "      <td>NaN</td>\n",
       "      <td>NaN</td>\n",
       "      <td>NaN</td>\n",
       "      <td>NaN</td>\n",
       "    </tr>\n",
       "  </tbody>\n",
       "</table>\n",
       "<p>5 rows × 1841 columns</p>\n",
       "</div>"
      ],
      "text/plain": [
       "   weekday  User_pageviews_unique  User_pageviews  doc_read_count  \\\n",
       "0        0                     46              46             4.0   \n",
       "1        0                     46              46             0.0   \n",
       "2        0                     46              46             0.0   \n",
       "3        0                     46              46             0.0   \n",
       "4        0                     46              46             0.0   \n",
       "\n",
       "   source_read_count  publisher_read_count  user_doc_read_count  \\\n",
       "0               83.0                  90.0                  1.0   \n",
       "1                0.0                   0.0                  0.0   \n",
       "2                0.0                   0.0                  0.0   \n",
       "3                0.0                   0.0                  0.0   \n",
       "4                0.0                   0.0                  0.0   \n",
       "\n",
       "   user_source_read_count  user_publisher_read_count  uuid_1006f3f5197379  \\\n",
       "0                    10.0                       11.0                    0   \n",
       "1                     0.0                        0.0                    0   \n",
       "2                     0.0                        0.0                    0   \n",
       "3                     0.0                        0.0                    0   \n",
       "4                     0.0                        0.0                    0   \n",
       "\n",
       "   ...  290  291  292  293  294  295  296  297  298  299  \n",
       "0  ...  0.0  0.0  0.0  0.0  0.0  0.0  0.0  0.0  0.0  0.0  \n",
       "1  ...  NaN  NaN  NaN  NaN  NaN  NaN  NaN  NaN  NaN  NaN  \n",
       "2  ...  0.0  0.0  0.0  0.0  0.0  0.0  0.0  0.0  0.0  0.0  \n",
       "3  ...  NaN  NaN  NaN  NaN  NaN  NaN  NaN  NaN  NaN  NaN  \n",
       "4  ...  NaN  NaN  NaN  NaN  NaN  NaN  NaN  NaN  NaN  NaN  \n",
       "\n",
       "[5 rows x 1841 columns]"
      ]
     },
     "execution_count": 14,
     "metadata": {},
     "output_type": "execute_result"
    }
   ],
   "source": [
    "print(x_train.shape, y_train.shape, x_val.shape, y_val.shape, x_test.shape, y_test.shape)\n",
    "x_train.head()"
   ]
  },
  {
   "cell_type": "code",
   "execution_count": 15,
   "metadata": {},
   "outputs": [
    {
     "data": {
      "text/html": [
       "<div>\n",
       "<style scoped>\n",
       "    .dataframe tbody tr th:only-of-type {\n",
       "        vertical-align: middle;\n",
       "    }\n",
       "\n",
       "    .dataframe tbody tr th {\n",
       "        vertical-align: top;\n",
       "    }\n",
       "\n",
       "    .dataframe thead th {\n",
       "        text-align: right;\n",
       "    }\n",
       "</style>\n",
       "<table border=\"1\" class=\"dataframe\">\n",
       "  <thead>\n",
       "    <tr style=\"text-align: right;\">\n",
       "      <th></th>\n",
       "      <th>weekday</th>\n",
       "      <th>User_pageviews_unique</th>\n",
       "      <th>User_pageviews</th>\n",
       "      <th>doc_read_count</th>\n",
       "      <th>source_read_count</th>\n",
       "      <th>publisher_read_count</th>\n",
       "      <th>user_doc_read_count</th>\n",
       "      <th>user_source_read_count</th>\n",
       "      <th>user_publisher_read_count</th>\n",
       "      <th>uuid_1006f3f5197379</th>\n",
       "      <th>...</th>\n",
       "      <th>290</th>\n",
       "      <th>291</th>\n",
       "      <th>292</th>\n",
       "      <th>293</th>\n",
       "      <th>294</th>\n",
       "      <th>295</th>\n",
       "      <th>296</th>\n",
       "      <th>297</th>\n",
       "      <th>298</th>\n",
       "      <th>299</th>\n",
       "    </tr>\n",
       "  </thead>\n",
       "  <tbody>\n",
       "    <tr>\n",
       "      <th>0</th>\n",
       "      <td>0</td>\n",
       "      <td>46</td>\n",
       "      <td>46</td>\n",
       "      <td>4.0</td>\n",
       "      <td>83.0</td>\n",
       "      <td>90.0</td>\n",
       "      <td>1.0</td>\n",
       "      <td>10.0</td>\n",
       "      <td>11.0</td>\n",
       "      <td>0</td>\n",
       "      <td>...</td>\n",
       "      <td>0.0</td>\n",
       "      <td>0.0</td>\n",
       "      <td>0.0</td>\n",
       "      <td>0.0</td>\n",
       "      <td>0.0</td>\n",
       "      <td>0.0</td>\n",
       "      <td>0.0</td>\n",
       "      <td>0.0</td>\n",
       "      <td>0.0</td>\n",
       "      <td>0.0</td>\n",
       "    </tr>\n",
       "    <tr>\n",
       "      <th>1</th>\n",
       "      <td>0</td>\n",
       "      <td>46</td>\n",
       "      <td>46</td>\n",
       "      <td>0.0</td>\n",
       "      <td>0.0</td>\n",
       "      <td>0.0</td>\n",
       "      <td>0.0</td>\n",
       "      <td>0.0</td>\n",
       "      <td>0.0</td>\n",
       "      <td>0</td>\n",
       "      <td>...</td>\n",
       "      <td>0.0</td>\n",
       "      <td>0.0</td>\n",
       "      <td>0.0</td>\n",
       "      <td>0.0</td>\n",
       "      <td>0.0</td>\n",
       "      <td>0.0</td>\n",
       "      <td>0.0</td>\n",
       "      <td>0.0</td>\n",
       "      <td>0.0</td>\n",
       "      <td>0.0</td>\n",
       "    </tr>\n",
       "    <tr>\n",
       "      <th>2</th>\n",
       "      <td>0</td>\n",
       "      <td>46</td>\n",
       "      <td>46</td>\n",
       "      <td>0.0</td>\n",
       "      <td>0.0</td>\n",
       "      <td>0.0</td>\n",
       "      <td>0.0</td>\n",
       "      <td>0.0</td>\n",
       "      <td>0.0</td>\n",
       "      <td>0</td>\n",
       "      <td>...</td>\n",
       "      <td>0.0</td>\n",
       "      <td>0.0</td>\n",
       "      <td>0.0</td>\n",
       "      <td>0.0</td>\n",
       "      <td>0.0</td>\n",
       "      <td>0.0</td>\n",
       "      <td>0.0</td>\n",
       "      <td>0.0</td>\n",
       "      <td>0.0</td>\n",
       "      <td>0.0</td>\n",
       "    </tr>\n",
       "    <tr>\n",
       "      <th>3</th>\n",
       "      <td>0</td>\n",
       "      <td>46</td>\n",
       "      <td>46</td>\n",
       "      <td>0.0</td>\n",
       "      <td>0.0</td>\n",
       "      <td>0.0</td>\n",
       "      <td>0.0</td>\n",
       "      <td>0.0</td>\n",
       "      <td>0.0</td>\n",
       "      <td>0</td>\n",
       "      <td>...</td>\n",
       "      <td>0.0</td>\n",
       "      <td>0.0</td>\n",
       "      <td>0.0</td>\n",
       "      <td>0.0</td>\n",
       "      <td>0.0</td>\n",
       "      <td>0.0</td>\n",
       "      <td>0.0</td>\n",
       "      <td>0.0</td>\n",
       "      <td>0.0</td>\n",
       "      <td>0.0</td>\n",
       "    </tr>\n",
       "    <tr>\n",
       "      <th>4</th>\n",
       "      <td>0</td>\n",
       "      <td>46</td>\n",
       "      <td>46</td>\n",
       "      <td>0.0</td>\n",
       "      <td>0.0</td>\n",
       "      <td>0.0</td>\n",
       "      <td>0.0</td>\n",
       "      <td>0.0</td>\n",
       "      <td>0.0</td>\n",
       "      <td>0</td>\n",
       "      <td>...</td>\n",
       "      <td>0.0</td>\n",
       "      <td>0.0</td>\n",
       "      <td>0.0</td>\n",
       "      <td>0.0</td>\n",
       "      <td>0.0</td>\n",
       "      <td>0.0</td>\n",
       "      <td>0.0</td>\n",
       "      <td>0.0</td>\n",
       "      <td>0.0</td>\n",
       "      <td>0.0</td>\n",
       "    </tr>\n",
       "  </tbody>\n",
       "</table>\n",
       "<p>5 rows × 1841 columns</p>\n",
       "</div>"
      ],
      "text/plain": [
       "   weekday  User_pageviews_unique  User_pageviews  doc_read_count  \\\n",
       "0        0                     46              46             4.0   \n",
       "1        0                     46              46             0.0   \n",
       "2        0                     46              46             0.0   \n",
       "3        0                     46              46             0.0   \n",
       "4        0                     46              46             0.0   \n",
       "\n",
       "   source_read_count  publisher_read_count  user_doc_read_count  \\\n",
       "0               83.0                  90.0                  1.0   \n",
       "1                0.0                   0.0                  0.0   \n",
       "2                0.0                   0.0                  0.0   \n",
       "3                0.0                   0.0                  0.0   \n",
       "4                0.0                   0.0                  0.0   \n",
       "\n",
       "   user_source_read_count  user_publisher_read_count  uuid_1006f3f5197379  \\\n",
       "0                    10.0                       11.0                    0   \n",
       "1                     0.0                        0.0                    0   \n",
       "2                     0.0                        0.0                    0   \n",
       "3                     0.0                        0.0                    0   \n",
       "4                     0.0                        0.0                    0   \n",
       "\n",
       "   ...  290  291  292  293  294  295  296  297  298  299  \n",
       "0  ...  0.0  0.0  0.0  0.0  0.0  0.0  0.0  0.0  0.0  0.0  \n",
       "1  ...  0.0  0.0  0.0  0.0  0.0  0.0  0.0  0.0  0.0  0.0  \n",
       "2  ...  0.0  0.0  0.0  0.0  0.0  0.0  0.0  0.0  0.0  0.0  \n",
       "3  ...  0.0  0.0  0.0  0.0  0.0  0.0  0.0  0.0  0.0  0.0  \n",
       "4  ...  0.0  0.0  0.0  0.0  0.0  0.0  0.0  0.0  0.0  0.0  \n",
       "\n",
       "[5 rows x 1841 columns]"
      ]
     },
     "execution_count": 15,
     "metadata": {},
     "output_type": "execute_result"
    }
   ],
   "source": [
    "# a lot of nan in topic from 290 .... 291\n",
    "x_train = x_train.fillna(0)\n",
    "x_val = x_val.fillna(0)\n",
    "x_test = x_test.fillna(0)\n",
    "#Check\n",
    "x_train.head()"
   ]
  },
  {
   "cell_type": "markdown",
   "metadata": {},
   "source": [
    "#### MODEL 1 - LINEAR REGRESSION - IGNORED "
   ]
  },
  {
   "cell_type": "code",
   "execution_count": 20,
   "metadata": {},
   "outputs": [],
   "source": [
    "# MLR\n",
    "regressor = LinearRegression()  \n",
    "regressor.fit(x_train1, y_train1)"
   ]
  },
  {
   "cell_type": "code",
   "execution_count": 21,
   "metadata": {},
   "outputs": [],
   "source": [
    "#finding coefficients\n",
    "coeff_mod1 = pd.DataFrame(regressor.coef_, x_train1.columns, columns=['Coefficient'])  \n",
    "coeff_mod1"
   ]
  },
  {
   "cell_type": "code",
   "execution_count": 511,
   "metadata": {},
   "outputs": [],
   "source": [
    "#Predictions on validation set \n",
    "y_predval1 = regressor.predict(x_val1)"
   ]
  },
  {
   "cell_type": "code",
   "execution_count": 512,
   "metadata": {},
   "outputs": [
    {
     "data": {
      "text/plain": [
       "0.28972023388663737"
      ]
     },
     "execution_count": 512,
     "metadata": {},
     "output_type": "execute_result"
    }
   ],
   "source": [
    "#Adjusted R squared \n",
    "regressor.score(x_train1, y_train1)"
   ]
  },
  {
   "cell_type": "code",
   "execution_count": 22,
   "metadata": {},
   "outputs": [],
   "source": [
    "# Check the difference between the actual value and predicted value\n",
    "diff = pd.DataFrame({'Actual on validation set': y_val1, 'Predicted': y_predval1})\n",
    "diff.head()"
   ]
  },
  {
   "cell_type": "code",
   "execution_count": 485,
   "metadata": {},
   "outputs": [],
   "source": [
    "# NOT REQUIRED - finding values above .99 in Predicted\n",
    "den = len(y_predval1)\n",
    "value = y_predval1 > 4.5\n",
    "num = sum(value)"
   ]
  },
  {
   "cell_type": "code",
   "execution_count": 487,
   "metadata": {},
   "outputs": [
    {
     "name": "stdout",
     "output_type": "stream",
     "text": [
      "Number of instances's above 4.5: 0 total : 979\n"
     ]
    }
   ],
   "source": [
    "# NOT REQUIRED -checking\n",
    "print(\"Number of instances's above 4.5:\",num,\"total :\",den)"
   ]
  },
  {
   "cell_type": "code",
   "execution_count": 258,
   "metadata": {},
   "outputs": [],
   "source": [
    "# NOT REQUIRED - finding values for 1 in Predicted\n",
    "den1 = len(y_test1)\n",
    "value1 = sum(y_test1)"
   ]
  },
  {
   "cell_type": "code",
   "execution_count": 259,
   "metadata": {},
   "outputs": [
    {
     "name": "stdout",
     "output_type": "stream",
     "text": [
      "Number of instances's for 1's: 366.0 total rows: 2136 % of 1's 0.17134831460674158\n"
     ]
    }
   ],
   "source": [
    "# NOT REQUIRED -checking\n",
    "print(\"Number of instances's for 1's:\",value1,\"total rows:\",den1,\"% of 1's\", value1/den1)"
   ]
  },
  {
   "cell_type": "code",
   "execution_count": 514,
   "metadata": {},
   "outputs": [],
   "source": [
    "# Converting regression results into and clasiffication problem \n",
    "# and finding a optimal value of hyperparameter\n",
    "hyperparamter = []\n",
    "MSElist = []\n",
    "\n",
    "for i in np.arange(0.1,10,0.1):\n",
    "    i = round(i,1)\n",
    "    hyperparamter.append(i)\n",
    "    temp = 1*(y_predval1 >= i)\n",
    "    x = s.mean(y_val1 != temp) \n",
    "    MSElist.append(x)"
   ]
  },
  {
   "cell_type": "code",
   "execution_count": 23,
   "metadata": {},
   "outputs": [],
   "source": [
    "hyper_losstable = pd.DataFrame({'Hyperparamter': hyperparamter, 'Loss': MSElist})\n",
    "hyper_losstable.head()"
   ]
  },
  {
   "cell_type": "code",
   "execution_count": 24,
   "metadata": {},
   "outputs": [],
   "source": [
    "# gca stands for 'get current axis'\n",
    "ax = plt.gca()\n",
    "hyper_losstable.plot(kind='line',x='Hyperparamter',y='Loss',ax=ax)\n",
    "plt.show()"
   ]
  },
  {
   "cell_type": "code",
   "execution_count": 519,
   "metadata": {},
   "outputs": [],
   "source": [
    "#Minimum loss\n",
    "minloss = hyper_losstable['Loss'].min()"
   ]
  },
  {
   "cell_type": "code",
   "execution_count": 520,
   "metadata": {},
   "outputs": [],
   "source": [
    "# Finding index of hyperparameter\n",
    "optimal_hyperparameter_index = int(hyper_losstable[['Loss']].idxmin())\n",
    "# Finding hyperparameter\n",
    "optimal_hyperparameter = hyper_losstable.iloc[optimal_hyperparameter_index].Hyperparamter"
   ]
  },
  {
   "cell_type": "code",
   "execution_count": 521,
   "metadata": {},
   "outputs": [
    {
     "name": "stdout",
     "output_type": "stream",
     "text": [
      "Loss for Linear Regression model on validation set: 0.1675178753830439 and optimal hyperparameter for this classification: 2.3\n"
     ]
    }
   ],
   "source": [
    "print('Loss for Linear Regression model on validation set:',minloss,'and optimal hyperparameter for this classification:',optimal_hyperparameter)"
   ]
  },
  {
   "cell_type": "code",
   "execution_count": 523,
   "metadata": {},
   "outputs": [],
   "source": [
    "#Predictions on testing set\n",
    "y_predtest1 = regressor.predict(x_test1)"
   ]
  },
  {
   "cell_type": "code",
   "execution_count": 537,
   "metadata": {},
   "outputs": [],
   "source": [
    "y_pred1 = 1*(y_predtest1 >= optimal_hyperparameter)\n",
    "loss = s.mean(y_test1 != y_pred1)"
   ]
  },
  {
   "cell_type": "markdown",
   "metadata": {},
   "source": [
    "FINAL REGRESSION RESULT "
   ]
  },
  {
   "cell_type": "code",
   "execution_count": 538,
   "metadata": {},
   "outputs": [
    {
     "name": "stdout",
     "output_type": "stream",
     "text": [
      "Loss for Linear Regression model on test set: 0.187 and optimal hyperparameter for this classification: 2.3\n"
     ]
    }
   ],
   "source": [
    "print('Loss for Linear Regression model on test set:',round(loss,3),'and optimal hyperparameter for this classification:',optimal_hyperparameter)"
   ]
  },
  {
   "cell_type": "code",
   "execution_count": 539,
   "metadata": {},
   "outputs": [
    {
     "data": {
      "text/plain": [
       "0.0    796\n",
       "1.0    183\n",
       "Name: clicked, dtype: int64"
      ]
     },
     "execution_count": 539,
     "metadata": {},
     "output_type": "execute_result"
    }
   ],
   "source": [
    "#reference\n",
    "y_test1.value_counts()"
   ]
  },
  {
   "cell_type": "code",
   "execution_count": 144,
   "metadata": {},
   "outputs": [
    {
     "name": "stdout",
     "output_type": "stream",
     "text": [
      "ratio of clicked to unclicked: 0.17160913952357804\n"
     ]
    }
   ],
   "source": [
    "#reference\n",
    "ratio = 353/2057 # input values manually\n",
    "print(\"ratio of clicked to unclicked:\", ratio)"
   ]
  },
  {
   "cell_type": "markdown",
   "metadata": {},
   "source": [
    "#### MODEL 2 - CLASSIFICATION - IGNORED"
   ]
  },
  {
   "cell_type": "markdown",
   "metadata": {},
   "source": [
    "FINDING ERROR USING METHOD 1 - KEEPING THIS ONLY - STANDARD WAY"
   ]
  },
  {
   "cell_type": "code",
   "execution_count": 25,
   "metadata": {},
   "outputs": [],
   "source": [
    "#Finding optimal k value - loss found as mean of y_test != y_pred\n",
    "k_values = []\n",
    "loss_list = []\n",
    "\n",
    "for i in range(1,30,2):\n",
    "    k_values.append(i)\n",
    "    knn = KNeighborsClassifier(n_neighbors=i, metric='euclidean')\n",
    "    knn.fit(x_train1, y_train1)\n",
    "    temp = knn.predict(x_val1)\n",
    "    x = s.mean(y_val1 != temp)\n",
    "    loss_list.append(x)\n",
    "    #print(i)"
   ]
  },
  {
   "cell_type": "code",
   "execution_count": 26,
   "metadata": {},
   "outputs": [],
   "source": [
    "k_losstable2 = pd.DataFrame({'K_Values': k_values, 'Loss': loss_list})\n",
    "k_losstable2.head()"
   ]
  },
  {
   "cell_type": "code",
   "execution_count": null,
   "metadata": {},
   "outputs": [],
   "source": [
    "# gca stands for 'get current axis'\n",
    "ax = plt.gca()\n",
    "k_losstable2.plot(kind='line',x='K_Values',y='Loss',ax=ax)\n",
    "plt.show()"
   ]
  },
  {
   "cell_type": "code",
   "execution_count": 555,
   "metadata": {},
   "outputs": [
    {
     "data": {
      "text/plain": [
       "0.39938712972420837"
      ]
     },
     "execution_count": 555,
     "metadata": {},
     "output_type": "execute_result"
    }
   ],
   "source": [
    "#Minimum loss\n",
    "minloss2 = k_losstable2['Loss'].min()\n",
    "minloss2"
   ]
  },
  {
   "cell_type": "code",
   "execution_count": 556,
   "metadata": {},
   "outputs": [],
   "source": [
    "# Finding index of optimal k\n",
    "optimal_k_index = int(k_losstable2[['Loss']].idxmin())\n",
    "# Finding k value \n",
    "optimal_k = k_losstable2.iloc[optimal_k_index].K_Values"
   ]
  },
  {
   "cell_type": "code",
   "execution_count": 564,
   "metadata": {},
   "outputs": [
    {
     "name": "stdout",
     "output_type": "stream",
     "text": [
      "Loss for classification model on validation set : 0.399 and optimal k value for this classification: 9.0\n"
     ]
    }
   ],
   "source": [
    "print('Loss for classification model on validation set :',round(minloss2,3),'and optimal k value for this classification:',optimal_k)"
   ]
  },
  {
   "cell_type": "code",
   "execution_count": 559,
   "metadata": {},
   "outputs": [
    {
     "data": {
      "text/plain": [
       "KNeighborsClassifier(algorithm='auto', leaf_size=30, metric='euclidean',\n",
       "                     metric_params=None, n_jobs=None, n_neighbors=9, p=2,\n",
       "                     weights='uniform')"
      ]
     },
     "execution_count": 559,
     "metadata": {},
     "output_type": "execute_result"
    }
   ],
   "source": [
    "# testing on testing set\n",
    "knn = KNeighborsClassifier(n_neighbors=int(optimal_k), metric='euclidean')\n",
    "knn.fit(x_train1, y_train1)"
   ]
  },
  {
   "cell_type": "code",
   "execution_count": 560,
   "metadata": {},
   "outputs": [],
   "source": [
    "y_pred2 = knn.predict(x_test1)\n",
    "loss = s.mean(y_test1 != y_pred2)"
   ]
  },
  {
   "cell_type": "code",
   "execution_count": 561,
   "metadata": {},
   "outputs": [
    {
     "data": {
      "text/plain": [
       "array([[389, 426],\n",
       "       [ 79,  85]])"
      ]
     },
     "execution_count": 561,
     "metadata": {},
     "output_type": "execute_result"
    }
   ],
   "source": [
    "confusion_matrix(y_val1, y_pred2)"
   ]
  },
  {
   "cell_type": "code",
   "execution_count": null,
   "metadata": {},
   "outputs": [],
   "source": [
    "FINAL CLASSIFICATION RESULT "
   ]
  },
  {
   "cell_type": "code",
   "execution_count": 563,
   "metadata": {},
   "outputs": [
    {
     "name": "stdout",
     "output_type": "stream",
     "text": [
      "Loss for classification model on testing set : 0.509 and optimal k value for this classification: 9.0\n"
     ]
    }
   ],
   "source": [
    "print('Loss for classification model on testing set :',round(loss,3),'and optimal k value for this classification:',optimal_k)"
   ]
  },
  {
   "cell_type": "markdown",
   "metadata": {},
   "source": [
    "FINDING ERROR USING METHOD 2 - IGNORED "
   ]
  },
  {
   "cell_type": "code",
   "execution_count": 565,
   "metadata": {},
   "outputs": [],
   "source": [
    "#Finding optimal k value - loss found as (F1 + F0)/(T0+F1+F0+T1)\n",
    "k_values = []\n",
    "loss_list = []\n",
    "\n",
    "for i in range(1,30,2):\n",
    "    k_values.append(i)\n",
    "    knn = KNeighborsClassifier(n_neighbors=i, metric='euclidean')\n",
    "    knn.fit(x_train1, y_train1)\n",
    "    y_pred22 = knn.predict(x_test1)\n",
    "    cm = confusion_matrix(y_test1, y_pred22)\n",
    "    T0 = cm[0][0]\n",
    "    F1 = cm[0][1]\n",
    "    F0 = cm[1][0]\n",
    "    T1 = cm[1][1]\n",
    "    x = (F1 + F0)/(T0+F1+F0+T1) #loss\n",
    "    loss_list.append(x)\n",
    "    print(i)"
   ]
  },
  {
   "cell_type": "code",
   "execution_count": 566,
   "metadata": {},
   "outputs": [],
   "source": [
    "k_losstable3 = pd.DataFrame({'K_Values': k_values, 'Loss': loss_list})\n",
    "k_losstable3.head(30)"
   ]
  },
  {
   "cell_type": "code",
   "execution_count": 281,
   "metadata": {},
   "outputs": [],
   "source": [
    "#Minimum loss\n",
    "minloss3 = k_losstable3['Loss'].min()"
   ]
  },
  {
   "cell_type": "code",
   "execution_count": 282,
   "metadata": {},
   "outputs": [],
   "source": [
    "# Finding index of optimal k\n",
    "optimal_k_index = int(k_losstable3[['Loss']].idxmin())\n",
    "# Finding k value \n",
    "optimal_k = k_losstable3.iloc[optimal_k_index].K_Values"
   ]
  },
  {
   "cell_type": "code",
   "execution_count": 283,
   "metadata": {},
   "outputs": [
    {
     "name": "stdout",
     "output_type": "stream",
     "text": [
      "Loss for classification model: 0.3947496353913466 and optimal k value for this classification: 1.0\n"
     ]
    }
   ],
   "source": [
    "print('Loss for classification model:',minloss3,'and optimal k value for this classification:',optimal_k)"
   ]
  },
  {
   "cell_type": "markdown",
   "metadata": {},
   "source": [
    "### MODEL 3a - logistic regression - (L2 == Ridge Regression)"
   ]
  },
  {
   "cell_type": "code",
   "execution_count": 17,
   "metadata": {},
   "outputs": [
    {
     "name": "stdout",
     "output_type": "stream",
     "text": [
      "0.01\n",
      "0.51\n",
      "1.01\n",
      "1.51\n",
      "2.01\n",
      "2.51\n",
      "3.01\n",
      "3.51\n",
      "4.01\n",
      "4.51\n",
      "5.01\n",
      "5.51\n",
      "6.01\n",
      "6.51\n",
      "7.01\n",
      "7.51\n",
      "8.01\n",
      "8.51\n",
      "9.01\n",
      "9.51\n",
      "10.01\n",
      "10.51\n",
      "11.01\n",
      "11.51\n",
      "12.01\n",
      "12.51\n",
      "13.01\n",
      "13.51\n",
      "14.01\n",
      "14.51\n",
      "15.01\n",
      "15.51\n",
      "16.01\n",
      "16.51\n",
      "17.01\n",
      "17.51\n",
      "18.01\n",
      "18.51\n",
      "19.01\n",
      "19.51\n",
      "20.01\n"
     ]
    },
    {
     "name": "stderr",
     "output_type": "stream",
     "text": [
      "/opt/anaconda3/lib/python3.7/site-packages/sklearn/linear_model/_logistic.py:940: ConvergenceWarning: lbfgs failed to converge (status=1):\n",
      "STOP: TOTAL NO. of ITERATIONS REACHED LIMIT.\n",
      "\n",
      "Increase the number of iterations (max_iter) or scale the data as shown in:\n",
      "    https://scikit-learn.org/stable/modules/preprocessing.html\n",
      "Please also refer to the documentation for alternative solver options:\n",
      "    https://scikit-learn.org/stable/modules/linear_model.html#logistic-regression\n",
      "  extra_warning_msg=_LOGISTIC_SOLVER_CONVERGENCE_MSG)\n"
     ]
    }
   ],
   "source": [
    "# Finding optimal value of c(inverse of lambda)\n",
    "c_values = []\n",
    "loss_list = []\n",
    "\n",
    "for i in np.arange(0.01,20.5,0.5):\n",
    "    i = round(i,2)\n",
    "    logreg = LogisticRegression(C=i, multi_class='multinomial', max_iter=10000) #L1 is default\n",
    "    logreg.fit(x_train, y_train)\n",
    "    c_values.append(i)\n",
    "    y_pred3a = logreg.predict(x_val)\n",
    "    x = s.mean(y_val != y_pred3a)\n",
    "    loss_list.append(x)\n",
    "    print(i)"
   ]
  },
  {
   "cell_type": "code",
   "execution_count": 19,
   "metadata": {},
   "outputs": [
    {
     "data": {
      "text/html": [
       "<div>\n",
       "<style scoped>\n",
       "    .dataframe tbody tr th:only-of-type {\n",
       "        vertical-align: middle;\n",
       "    }\n",
       "\n",
       "    .dataframe tbody tr th {\n",
       "        vertical-align: top;\n",
       "    }\n",
       "\n",
       "    .dataframe thead th {\n",
       "        text-align: right;\n",
       "    }\n",
       "</style>\n",
       "<table border=\"1\" class=\"dataframe\">\n",
       "  <thead>\n",
       "    <tr style=\"text-align: right;\">\n",
       "      <th></th>\n",
       "      <th>Lambda_inverse</th>\n",
       "      <th>Error</th>\n",
       "    </tr>\n",
       "  </thead>\n",
       "  <tbody>\n",
       "    <tr>\n",
       "      <th>0</th>\n",
       "      <td>0.01</td>\n",
       "      <td>0.162328</td>\n",
       "    </tr>\n",
       "    <tr>\n",
       "      <th>1</th>\n",
       "      <td>0.51</td>\n",
       "      <td>0.160796</td>\n",
       "    </tr>\n",
       "    <tr>\n",
       "      <th>2</th>\n",
       "      <td>1.01</td>\n",
       "      <td>0.160796</td>\n",
       "    </tr>\n",
       "    <tr>\n",
       "      <th>3</th>\n",
       "      <td>1.51</td>\n",
       "      <td>0.160796</td>\n",
       "    </tr>\n",
       "    <tr>\n",
       "      <th>4</th>\n",
       "      <td>2.01</td>\n",
       "      <td>0.161179</td>\n",
       "    </tr>\n",
       "    <tr>\n",
       "      <th>5</th>\n",
       "      <td>2.51</td>\n",
       "      <td>0.160796</td>\n",
       "    </tr>\n",
       "    <tr>\n",
       "      <th>6</th>\n",
       "      <td>3.01</td>\n",
       "      <td>0.161179</td>\n",
       "    </tr>\n",
       "    <tr>\n",
       "      <th>7</th>\n",
       "      <td>3.51</td>\n",
       "      <td>0.161562</td>\n",
       "    </tr>\n",
       "    <tr>\n",
       "      <th>8</th>\n",
       "      <td>4.01</td>\n",
       "      <td>0.161562</td>\n",
       "    </tr>\n",
       "    <tr>\n",
       "      <th>9</th>\n",
       "      <td>4.51</td>\n",
       "      <td>0.162328</td>\n",
       "    </tr>\n",
       "    <tr>\n",
       "      <th>10</th>\n",
       "      <td>5.01</td>\n",
       "      <td>0.161945</td>\n",
       "    </tr>\n",
       "    <tr>\n",
       "      <th>11</th>\n",
       "      <td>5.51</td>\n",
       "      <td>0.162328</td>\n",
       "    </tr>\n",
       "    <tr>\n",
       "      <th>12</th>\n",
       "      <td>6.01</td>\n",
       "      <td>0.162328</td>\n",
       "    </tr>\n",
       "    <tr>\n",
       "      <th>13</th>\n",
       "      <td>6.51</td>\n",
       "      <td>0.162711</td>\n",
       "    </tr>\n",
       "    <tr>\n",
       "      <th>14</th>\n",
       "      <td>7.01</td>\n",
       "      <td>0.162711</td>\n",
       "    </tr>\n",
       "    <tr>\n",
       "      <th>15</th>\n",
       "      <td>7.51</td>\n",
       "      <td>0.163093</td>\n",
       "    </tr>\n",
       "    <tr>\n",
       "      <th>16</th>\n",
       "      <td>8.01</td>\n",
       "      <td>0.163093</td>\n",
       "    </tr>\n",
       "    <tr>\n",
       "      <th>17</th>\n",
       "      <td>8.51</td>\n",
       "      <td>0.162711</td>\n",
       "    </tr>\n",
       "    <tr>\n",
       "      <th>18</th>\n",
       "      <td>9.01</td>\n",
       "      <td>0.162711</td>\n",
       "    </tr>\n",
       "    <tr>\n",
       "      <th>19</th>\n",
       "      <td>9.51</td>\n",
       "      <td>0.163093</td>\n",
       "    </tr>\n",
       "  </tbody>\n",
       "</table>\n",
       "</div>"
      ],
      "text/plain": [
       "    Lambda_inverse     Error\n",
       "0             0.01  0.162328\n",
       "1             0.51  0.160796\n",
       "2             1.01  0.160796\n",
       "3             1.51  0.160796\n",
       "4             2.01  0.161179\n",
       "5             2.51  0.160796\n",
       "6             3.01  0.161179\n",
       "7             3.51  0.161562\n",
       "8             4.01  0.161562\n",
       "9             4.51  0.162328\n",
       "10            5.01  0.161945\n",
       "11            5.51  0.162328\n",
       "12            6.01  0.162328\n",
       "13            6.51  0.162711\n",
       "14            7.01  0.162711\n",
       "15            7.51  0.163093\n",
       "16            8.01  0.163093\n",
       "17            8.51  0.162711\n",
       "18            9.01  0.162711\n",
       "19            9.51  0.163093"
      ]
     },
     "execution_count": 19,
     "metadata": {},
     "output_type": "execute_result"
    }
   ],
   "source": [
    "c_losstable3a = pd.DataFrame({'Lambda_inverse': c_values, 'Error': loss_list})\n",
    "c_losstable3a.head(20)"
   ]
  },
  {
   "cell_type": "code",
   "execution_count": 20,
   "metadata": {},
   "outputs": [
    {
     "data": {
      "image/png": "[encoded data removed]",
      "text/plain": [
       "<Figure size 432x288 with 1 Axes>"
      ]
     },
     "metadata": {},
     "output_type": "display_data"
    }
   ],
   "source": [
    "# gca stands for 'get current axis'\n",
    "ax = plt.gca()\n",
    "c_losstable3a.plot(kind='line',x='Lambda_inverse',y='Error',ax=ax)\n",
    "plt.show()"
   ]
  },
  {
   "cell_type": "code",
   "execution_count": 21,
   "metadata": {},
   "outputs": [],
   "source": [
    "#Minimum loss\n",
    "minloss3a = c_losstable3a['Error'].min()"
   ]
  },
  {
   "cell_type": "code",
   "execution_count": 22,
   "metadata": {},
   "outputs": [],
   "source": [
    "# Finding index of optimal c\n",
    "optimal_c_index = int(c_losstable3a[['Error']].idxmin())\n",
    "# Finding c value\n",
    "optimal_c = c_losstable3a.iloc[optimal_c_index].Lambda_inverse"
   ]
  },
  {
   "cell_type": "code",
   "execution_count": 23,
   "metadata": {},
   "outputs": [
    {
     "data": {
      "text/plain": [
       "0.51"
      ]
     },
     "execution_count": 23,
     "metadata": {},
     "output_type": "execute_result"
    }
   ],
   "source": [
    "optimal_c"
   ]
  },
  {
   "cell_type": "code",
   "execution_count": 24,
   "metadata": {},
   "outputs": [
    {
     "name": "stdout",
     "output_type": "stream",
     "text": [
      "Error for Logistic regression on Validation set: 0.1608 and lambda value for this model: 1.9608\n"
     ]
    }
   ],
   "source": [
    "print('Error for Logistic regression on Validation set:',round(minloss3a,4),'and lambda value for this model:',round((1/optimal_c),4))\n"
   ]
  },
  {
   "cell_type": "code",
   "execution_count": 25,
   "metadata": {},
   "outputs": [
    {
     "data": {
      "text/plain": [
       "LogisticRegression(C=0.51, class_weight=None, dual=False, fit_intercept=True,\n",
       "                   intercept_scaling=1, l1_ratio=None, max_iter=10000,\n",
       "                   multi_class='multinomial', n_jobs=None, penalty='l2',\n",
       "                   random_state=None, solver='lbfgs', tol=0.0001, verbose=0,\n",
       "                   warm_start=False)"
      ]
     },
     "execution_count": 25,
     "metadata": {},
     "output_type": "execute_result"
    }
   ],
   "source": [
    "logreg = LogisticRegression(C=optimal_c, max_iter = 10000, multi_class='multinomial') #L1 is default\n",
    "logreg.fit(x_train, y_train)\n",
    "\n",
    "# if class is multinomial and solver is lbfgs then loss is crossentropy \n",
    "\n",
    "#penalty is l1,l2 or elastic net.\n",
    "\n",
    "#The trade-off parameter of logistic regression that determines the strength of the regularization is called C, \n",
    "#and higher values of C correspond to less regularization (where we can specify the regularization function).\n",
    "#C is actually the Inverse of regularization strength(lambda)#"
   ]
  },
  {
   "cell_type": "code",
   "execution_count": 26,
   "metadata": {},
   "outputs": [
    {
     "name": "stdout",
     "output_type": "stream",
     "text": [
      "Accuracy of logistic regression classifier(L2 norm) on test set: 0.83\n"
     ]
    }
   ],
   "source": [
    "y_pred3a = logreg.predict(x_test)\n",
    "print('Accuracy of logistic regression classifier(L2 norm) on test set: {:.2f}'.format(logreg.score(x_test, y_test)))"
   ]
  },
  {
   "cell_type": "code",
   "execution_count": 27,
   "metadata": {},
   "outputs": [],
   "source": [
    "loss = s.mean(y_test != y_pred3a)"
   ]
  },
  {
   "cell_type": "code",
   "execution_count": 28,
   "metadata": {},
   "outputs": [
    {
     "name": "stdout",
     "output_type": "stream",
     "text": [
      "[[2153   11]\n",
      " [ 423   25]]\n"
     ]
    }
   ],
   "source": [
    "confusion_matrix3a = confusion_matrix(y_test, y_pred3a)\n",
    "print(confusion_matrix3a)"
   ]
  },
  {
   "cell_type": "code",
   "execution_count": 29,
   "metadata": {},
   "outputs": [
    {
     "name": "stdout",
     "output_type": "stream",
     "text": [
      "Error for Logistic regression on test set: 0.1662 and lambda value for this model: 1.9608\n"
     ]
    }
   ],
   "source": [
    "print('Error for Logistic regression on test set:',round(loss,4),'and lambda value for this model:',round((1/optimal_c),4))\n",
    "\n"
   ]
  },
  {
   "cell_type": "markdown",
   "metadata": {},
   "source": [
    "### MODEL 3b - logistic regression - (L1 is Lasso Regression)"
   ]
  },
  {
   "cell_type": "code",
   "execution_count": null,
   "metadata": {},
   "outputs": [
    {
     "name": "stdout",
     "output_type": "stream",
     "text": [
      "0.01\n",
      "0.51\n",
      "1.01\n"
     ]
    }
   ],
   "source": [
    "# Finding optimal value of c(inverse of lambda)\n",
    "c_values = []\n",
    "loss_list = []\n",
    "\n",
    "for i in np.arange(0.01,20.5,0.5):\n",
    "    i = round(i,2)\n",
    "    logreg = LogisticRegression(C=i, penalty='l1', solver='saga', multi_class='multinomial', max_iter=10000)\n",
    "    logreg.fit(x_train, y_train)\n",
    "    c_values.append(i)\n",
    "    y_pred3b = logreg.predict(x_val)\n",
    "    x = s.mean(y_val != y_pred3b)\n",
    "    loss_list.append(x)\n",
    "    print(i)"
   ]
  },
  {
   "cell_type": "code",
   "execution_count": 718,
   "metadata": {},
   "outputs": [
    {
     "data": {
      "text/html": [
       "<div>\n",
       "<style scoped>\n",
       "    .dataframe tbody tr th:only-of-type {\n",
       "        vertical-align: middle;\n",
       "    }\n",
       "\n",
       "    .dataframe tbody tr th {\n",
       "        vertical-align: top;\n",
       "    }\n",
       "\n",
       "    .dataframe thead th {\n",
       "        text-align: right;\n",
       "    }\n",
       "</style>\n",
       "<table border=\"1\" class=\"dataframe\">\n",
       "  <thead>\n",
       "    <tr style=\"text-align: right;\">\n",
       "      <th></th>\n",
       "      <th>lambdaValues</th>\n",
       "      <th>Loss</th>\n",
       "    </tr>\n",
       "  </thead>\n",
       "  <tbody>\n",
       "    <tr>\n",
       "      <th>0</th>\n",
       "      <td>10</td>\n",
       "      <td>0.450460</td>\n",
       "    </tr>\n",
       "    <tr>\n",
       "      <th>1</th>\n",
       "      <td>12</td>\n",
       "      <td>0.450460</td>\n",
       "    </tr>\n",
       "    <tr>\n",
       "      <th>2</th>\n",
       "      <td>14</td>\n",
       "      <td>0.450460</td>\n",
       "    </tr>\n",
       "    <tr>\n",
       "      <th>3</th>\n",
       "      <td>16</td>\n",
       "      <td>0.448417</td>\n",
       "    </tr>\n",
       "    <tr>\n",
       "      <th>4</th>\n",
       "      <td>18</td>\n",
       "      <td>0.453524</td>\n",
       "    </tr>\n",
       "  </tbody>\n",
       "</table>\n",
       "</div>"
      ],
      "text/plain": [
       "   lambdaValues      Loss\n",
       "0            10  0.450460\n",
       "1            12  0.450460\n",
       "2            14  0.450460\n",
       "3            16  0.448417\n",
       "4            18  0.453524"
      ]
     },
     "execution_count": 718,
     "metadata": {},
     "output_type": "execute_result"
    }
   ],
   "source": [
    "k_losstable3b = pd.DataFrame({'lambdaValues': lambda_values, 'Loss': loss_list})\n",
    "k_losstable3b.head(30)"
   ]
  },
  {
   "cell_type": "code",
   "execution_count": 719,
   "metadata": {},
   "outputs": [
    {
     "data": {
      "image/png": "[encoded data removed]",
      "text/plain": [
       "<Figure size 432x288 with 1 Axes>"
      ]
     },
     "metadata": {},
     "output_type": "display_data"
    }
   ],
   "source": [
    "# gca stands for 'get current axis'\n",
    "ax = plt.gca()\n",
    "k_losstable3b.plot(kind='line',x='lambdaValues',y='Loss',ax=ax)\n",
    "plt.show()"
   ]
  },
  {
   "cell_type": "code",
   "execution_count": 720,
   "metadata": {},
   "outputs": [],
   "source": [
    "#Minimum loss\n",
    "minloss3b = k_losstable3b['Loss'].min()"
   ]
  },
  {
   "cell_type": "code",
   "execution_count": 721,
   "metadata": {},
   "outputs": [],
   "source": [
    "# Finding index of optimal lamdba\n",
    "optimal_lambda_index = int(k_losstable3b[['Loss']].idxmin())\n",
    "# Finding lambda value\n",
    "optimal_lambda = k_losstable3b.iloc[optimal_lambda_index].lambdaValues"
   ]
  },
  {
   "cell_type": "code",
   "execution_count": 722,
   "metadata": {},
   "outputs": [
    {
     "data": {
      "text/plain": [
       "16.0"
      ]
     },
     "execution_count": 722,
     "metadata": {},
     "output_type": "execute_result"
    }
   ],
   "source": [
    "optimal_lambda"
   ]
  },
  {
   "cell_type": "code",
   "execution_count": 724,
   "metadata": {},
   "outputs": [
    {
     "name": "stdout",
     "output_type": "stream",
     "text": [
      "Loss for classification model on validation set: 0.448 and optimal lambda value for this classification: 0.062\n"
     ]
    }
   ],
   "source": [
    "print('Loss for classification model on validation set:',round(minloss3b,3),'and optimal lambda value for this classification:',round((1/optimal_lambda),3))"
   ]
  },
  {
   "cell_type": "code",
   "execution_count": 744,
   "metadata": {},
   "outputs": [
    {
     "data": {
      "text/plain": [
       "LogisticRegression(C=1.2, class_weight=None, dual=False, fit_intercept=True,\n",
       "                   intercept_scaling=1, l1_ratio=None, max_iter=10000,\n",
       "                   multi_class='multinomial', n_jobs=None, penalty='l1',\n",
       "                   random_state=None, solver='saga', tol=0.0001, verbose=0,\n",
       "                   warm_start=False)"
      ]
     },
     "execution_count": 744,
     "metadata": {},
     "output_type": "execute_result"
    }
   ],
   "source": [
    "# Testing on testing set\n",
    "# for cross entropy loss, multi_class='multinomial' and solver saga\n",
    "\n",
    "logreg = LogisticRegression(C=optimal_lambda, penalty='l1', solver='saga', multi_class='multinomial', max_iter=10000)\n",
    "logreg.fit(x_train1, y_train1)"
   ]
  },
  {
   "cell_type": "code",
   "execution_count": 745,
   "metadata": {},
   "outputs": [
    {
     "name": "stdout",
     "output_type": "stream",
     "text": [
      "Accuracy of logistic regression classifier(L1 norm) on test set: 0.43\n"
     ]
    }
   ],
   "source": [
    "y_pred3b = logreg.predict(x_test1)\n",
    "print('Accuracy of logistic regression classifier(L1 norm) on test set: {:.2f}'.format(logreg.score(x_test1, y_test1)))"
   ]
  },
  {
   "cell_type": "code",
   "execution_count": 746,
   "metadata": {},
   "outputs": [],
   "source": [
    "minloss3b = s.mean(y_test1 != y_pred3b)"
   ]
  },
  {
   "cell_type": "code",
   "execution_count": 747,
   "metadata": {},
   "outputs": [
    {
     "name": "stdout",
     "output_type": "stream",
     "text": [
      "[[286 510]\n",
      " [ 47 136]]\n"
     ]
    }
   ],
   "source": [
    "confusion_matrix3b = confusion_matrix(y_test1, y_pred3b)\n",
    "print(confusion_matrix3b)"
   ]
  },
  {
   "cell_type": "code",
   "execution_count": 748,
   "metadata": {},
   "outputs": [
    {
     "name": "stdout",
     "output_type": "stream",
     "text": [
      "Loss for classification model on validation set: 0.569 and optimal lambda value for this classification: 0.062\n"
     ]
    }
   ],
   "source": [
    "print('Loss for classification model on validation set:',round(minloss3b,3),'and optimal lambda value for this classification:',round((1/optimal_lambda),3))"
   ]
  },
  {
   "cell_type": "markdown",
   "metadata": {},
   "source": [
    "### MODEL 3c - logistic regression - (Elastic net)"
   ]
  },
  {
   "cell_type": "markdown",
   "metadata": {},
   "source": [
    "FOR TUNING lambda"
   ]
  },
  {
   "cell_type": "code",
   "execution_count": 631,
   "metadata": {},
   "outputs": [],
   "source": [
    "# Finding optimal value of c(inverse of lambda). ALSO we can optimise l1 ratio\n",
    "lambda_values = []\n",
    "loss_list = []\n",
    "\n",
    "for i in np.arange(0.1,5,0.4):\n",
    "    i = round(i,1)\n",
    "    logreg = LogisticRegression(C=i, penalty='elasticnet', solver='saga', l1_ratio = 0.5, multi_class='multinomial', max_iter = 500)\n",
    "    logreg.fit(x_train1, y_train1)\n",
    "    lambda_values.append(i)\n",
    "    y_pred3c = logreg.predict(x_val1)\n",
    "    x = s.mean(y_val1 != y_pred3c)\n",
    "    loss_list.append(x)\n",
    "    #print(i)"
   ]
  },
  {
   "cell_type": "code",
   "execution_count": 622,
   "metadata": {},
   "outputs": [
    {
     "data": {
      "text/html": [
       "<div>\n",
       "<style scoped>\n",
       "    .dataframe tbody tr th:only-of-type {\n",
       "        vertical-align: middle;\n",
       "    }\n",
       "\n",
       "    .dataframe tbody tr th {\n",
       "        vertical-align: top;\n",
       "    }\n",
       "\n",
       "    .dataframe thead th {\n",
       "        text-align: right;\n",
       "    }\n",
       "</style>\n",
       "<table border=\"1\" class=\"dataframe\">\n",
       "  <thead>\n",
       "    <tr style=\"text-align: right;\">\n",
       "      <th></th>\n",
       "      <th>lambdaValues</th>\n",
       "      <th>Loss</th>\n",
       "    </tr>\n",
       "  </thead>\n",
       "  <tbody>\n",
       "    <tr>\n",
       "      <th>0</th>\n",
       "      <td>1.0</td>\n",
       "      <td>0.460674</td>\n",
       "    </tr>\n",
       "    <tr>\n",
       "      <th>1</th>\n",
       "      <td>1.4</td>\n",
       "      <td>0.462717</td>\n",
       "    </tr>\n",
       "    <tr>\n",
       "      <th>2</th>\n",
       "      <td>1.8</td>\n",
       "      <td>0.462717</td>\n",
       "    </tr>\n",
       "    <tr>\n",
       "      <th>3</th>\n",
       "      <td>2.2</td>\n",
       "      <td>0.466803</td>\n",
       "    </tr>\n",
       "    <tr>\n",
       "      <th>4</th>\n",
       "      <td>2.6</td>\n",
       "      <td>0.462717</td>\n",
       "    </tr>\n",
       "    <tr>\n",
       "      <th>5</th>\n",
       "      <td>3.0</td>\n",
       "      <td>0.461696</td>\n",
       "    </tr>\n",
       "    <tr>\n",
       "      <th>6</th>\n",
       "      <td>3.4</td>\n",
       "      <td>0.460674</td>\n",
       "    </tr>\n",
       "    <tr>\n",
       "      <th>7</th>\n",
       "      <td>3.8</td>\n",
       "      <td>0.460674</td>\n",
       "    </tr>\n",
       "  </tbody>\n",
       "</table>\n",
       "</div>"
      ],
      "text/plain": [
       "   lambdaValues      Loss\n",
       "0           1.0  0.460674\n",
       "1           1.4  0.462717\n",
       "2           1.8  0.462717\n",
       "3           2.2  0.466803\n",
       "4           2.6  0.462717\n",
       "5           3.0  0.461696\n",
       "6           3.4  0.460674\n",
       "7           3.8  0.460674"
      ]
     },
     "execution_count": 622,
     "metadata": {},
     "output_type": "execute_result"
    }
   ],
   "source": [
    "k_losstable3c = pd.DataFrame({'lambdaValues': lambda_values, 'Loss': loss_list})\n",
    "k_losstable3c.head(30)"
   ]
  },
  {
   "cell_type": "code",
   "execution_count": 634,
   "metadata": {},
   "outputs": [
    {
     "data": {
      "image/png": "[encoded data removed]",
      "text/plain": [
       "<Figure size 432x288 with 1 Axes>"
      ]
     },
     "metadata": {},
     "output_type": "display_data"
    }
   ],
   "source": [
    "# gca stands for 'get current axis'\n",
    "ax = plt.gca()\n",
    "k_losstable3c.plot(kind='line',x='lambdaValues',y='Loss',ax=ax)\n",
    "plt.show()"
   ]
  },
  {
   "cell_type": "code",
   "execution_count": 635,
   "metadata": {},
   "outputs": [],
   "source": [
    "#Minimum loss\n",
    "minloss3c = k_losstable3c['Loss'].min()"
   ]
  },
  {
   "cell_type": "code",
   "execution_count": 636,
   "metadata": {},
   "outputs": [],
   "source": [
    "# Finding index of optimal lamdba\n",
    "optimal_lambda_index = int(k_losstable3c[['Loss']].idxmin())\n",
    "# Finding lambda value\n",
    "optimal_lambda = k_losstable3c.iloc[optimal_lambda_index].lambdaValues"
   ]
  },
  {
   "cell_type": "code",
   "execution_count": 638,
   "metadata": {},
   "outputs": [
    {
     "name": "stdout",
     "output_type": "stream",
     "text": [
      "Loss for classification model on validation set: 0.461 and optimal lambda value for this classification: 1.0\n"
     ]
    }
   ],
   "source": [
    "print('Loss for classification model on validation set:',round(minloss3c,3),'and optimal lambda value for this classification:',round((1/optimal_lambda),2))"
   ]
  },
  {
   "cell_type": "code",
   "execution_count": 639,
   "metadata": {},
   "outputs": [
    {
     "data": {
      "text/plain": [
       "LogisticRegression(C=1.0, class_weight=None, dual=False, fit_intercept=True,\n",
       "                   intercept_scaling=1, l1_ratio=0.5, max_iter=500,\n",
       "                   multi_class='multinomial', n_jobs=None, penalty='elasticnet',\n",
       "                   random_state=None, solver='saga', tol=0.0001, verbose=0,\n",
       "                   warm_start=False)"
      ]
     },
     "execution_count": 639,
     "metadata": {},
     "output_type": "execute_result"
    }
   ],
   "source": [
    "# Testing on test sets\n",
    "logreg = LogisticRegression(C=optimal_lambda, penalty='elasticnet', solver='saga', l1_ratio = 0.5, multi_class='multinomial', max_iter = 500) #l1_ratio is how much l1/l2 penalty funtion\n",
    "logreg.fit(x_train1, y_train1)"
   ]
  },
  {
   "cell_type": "code",
   "execution_count": 640,
   "metadata": {},
   "outputs": [
    {
     "name": "stdout",
     "output_type": "stream",
     "text": [
      "Accuracy of logistic regression classifier(Elastic net with ratio 0.5) on test set: 0.43\n"
     ]
    }
   ],
   "source": [
    "y_pred3c = logreg.predict(x_test1)\n",
    "print('Accuracy of logistic regression classifier(Elastic net with ratio 0.5) on test set: {:.2f}'.format(logreg.score(x_test1, y_test1)))"
   ]
  },
  {
   "cell_type": "code",
   "execution_count": 641,
   "metadata": {},
   "outputs": [],
   "source": [
    "minloss3c = s.mean(y_test1 != y_pred3c)"
   ]
  },
  {
   "cell_type": "code",
   "execution_count": 642,
   "metadata": {},
   "outputs": [
    {
     "name": "stdout",
     "output_type": "stream",
     "text": [
      "[[287 509]\n",
      " [ 47 136]]\n"
     ]
    }
   ],
   "source": [
    "confusion_matrix3c = confusion_matrix(y_test1, y_pred3c)\n",
    "print(confusion_matrix3c)"
   ]
  },
  {
   "cell_type": "code",
   "execution_count": 643,
   "metadata": {},
   "outputs": [
    {
     "name": "stdout",
     "output_type": "stream",
     "text": [
      "Loss for classification model on test set: 0.568 and optimal lambda value for this classification: 1.0\n"
     ]
    }
   ],
   "source": [
    "print('Loss for classification model on test set:',round(minloss3c,3),'and optimal lambda value for this classification:',round((1/optimal_lambda),2))"
   ]
  },
  {
   "cell_type": "markdown",
   "metadata": {},
   "source": [
    "FOR TUNING l1_ratio"
   ]
  },
  {
   "cell_type": "code",
   "execution_count": 750,
   "metadata": {},
   "outputs": [
    {
     "name": "stdout",
     "output_type": "stream",
     "text": [
      "0.1\n",
      "0.2\n",
      "0.3\n",
      "0.4\n",
      "0.5\n",
      "0.6\n"
     ]
    },
    {
     "name": "stderr",
     "output_type": "stream",
     "text": [
      "/opt/anaconda3/lib/python3.7/site-packages/sklearn/linear_model/_sag.py:330: ConvergenceWarning: The max_iter was reached which means the coef_ did not converge\n",
      "  \"the coef_ did not converge\", ConvergenceWarning)\n"
     ]
    },
    {
     "name": "stdout",
     "output_type": "stream",
     "text": [
      "0.7\n"
     ]
    },
    {
     "name": "stderr",
     "output_type": "stream",
     "text": [
      "/opt/anaconda3/lib/python3.7/site-packages/sklearn/linear_model/_sag.py:330: ConvergenceWarning: The max_iter was reached which means the coef_ did not converge\n",
      "  \"the coef_ did not converge\", ConvergenceWarning)\n"
     ]
    },
    {
     "name": "stdout",
     "output_type": "stream",
     "text": [
      "0.8\n",
      "0.9\n"
     ]
    },
    {
     "name": "stderr",
     "output_type": "stream",
     "text": [
      "/opt/anaconda3/lib/python3.7/site-packages/sklearn/linear_model/_sag.py:330: ConvergenceWarning: The max_iter was reached which means the coef_ did not converge\n",
      "  \"the coef_ did not converge\", ConvergenceWarning)\n"
     ]
    }
   ],
   "source": [
    "# Finding optimal value  l1 ratio, taking lambda as average of what we get in Ridge and LASSO\n",
    "c = 16.5\n",
    "ratio_values = []\n",
    "loss_list = []\n",
    "\n",
    "for i in np.arange(0.1,1,0.1):\n",
    "    i = round(i,1)\n",
    "    logreg = LogisticRegression(C= c, penalty='elasticnet', solver='saga', l1_ratio = i, multi_class='multinomial', max_iter = 500)\n",
    "    logreg.fit(x_train1, y_train1)\n",
    "    ratio_values.append(i)\n",
    "    y_pred3c = logreg.predict(x_val1)\n",
    "    x = s.mean(y_val1 != y_pred3c)\n",
    "    loss_list.append(x)\n",
    "    print(i)"
   ]
  },
  {
   "cell_type": "code",
   "execution_count": 752,
   "metadata": {},
   "outputs": [
    {
     "data": {
      "text/html": [
       "<div>\n",
       "<style scoped>\n",
       "    .dataframe tbody tr th:only-of-type {\n",
       "        vertical-align: middle;\n",
       "    }\n",
       "\n",
       "    .dataframe tbody tr th {\n",
       "        vertical-align: top;\n",
       "    }\n",
       "\n",
       "    .dataframe thead th {\n",
       "        text-align: right;\n",
       "    }\n",
       "</style>\n",
       "<table border=\"1\" class=\"dataframe\">\n",
       "  <thead>\n",
       "    <tr style=\"text-align: right;\">\n",
       "      <th></th>\n",
       "      <th>Ratio</th>\n",
       "      <th>Loss</th>\n",
       "    </tr>\n",
       "  </thead>\n",
       "  <tbody>\n",
       "    <tr>\n",
       "      <th>0</th>\n",
       "      <td>0.1</td>\n",
       "      <td>0.445352</td>\n",
       "    </tr>\n",
       "    <tr>\n",
       "      <th>1</th>\n",
       "      <td>0.2</td>\n",
       "      <td>0.446374</td>\n",
       "    </tr>\n",
       "    <tr>\n",
       "      <th>2</th>\n",
       "      <td>0.3</td>\n",
       "      <td>0.446374</td>\n",
       "    </tr>\n",
       "    <tr>\n",
       "      <th>3</th>\n",
       "      <td>0.4</td>\n",
       "      <td>0.446374</td>\n",
       "    </tr>\n",
       "    <tr>\n",
       "      <th>4</th>\n",
       "      <td>0.5</td>\n",
       "      <td>0.446374</td>\n",
       "    </tr>\n",
       "    <tr>\n",
       "      <th>5</th>\n",
       "      <td>0.6</td>\n",
       "      <td>0.446374</td>\n",
       "    </tr>\n",
       "    <tr>\n",
       "      <th>6</th>\n",
       "      <td>0.7</td>\n",
       "      <td>0.446374</td>\n",
       "    </tr>\n",
       "    <tr>\n",
       "      <th>7</th>\n",
       "      <td>0.8</td>\n",
       "      <td>0.450460</td>\n",
       "    </tr>\n",
       "    <tr>\n",
       "      <th>8</th>\n",
       "      <td>0.9</td>\n",
       "      <td>0.450460</td>\n",
       "    </tr>\n",
       "  </tbody>\n",
       "</table>\n",
       "</div>"
      ],
      "text/plain": [
       "   Ratio      Loss\n",
       "0    0.1  0.445352\n",
       "1    0.2  0.446374\n",
       "2    0.3  0.446374\n",
       "3    0.4  0.446374\n",
       "4    0.5  0.446374\n",
       "5    0.6  0.446374\n",
       "6    0.7  0.446374\n",
       "7    0.8  0.450460\n",
       "8    0.9  0.450460"
      ]
     },
     "execution_count": 752,
     "metadata": {},
     "output_type": "execute_result"
    }
   ],
   "source": [
    "k_losstable3c = pd.DataFrame({'Ratio': ratio_values, 'Loss': loss_list})\n",
    "k_losstable3c.head(10)"
   ]
  },
  {
   "cell_type": "code",
   "execution_count": 753,
   "metadata": {},
   "outputs": [
    {
     "data": {
      "image/png": "[encoded data removed]",
      "text/plain": [
       "<Figure size 432x288 with 1 Axes>"
      ]
     },
     "metadata": {},
     "output_type": "display_data"
    }
   ],
   "source": [
    "# gca stands for 'get current axis'\n",
    "ax = plt.gca()\n",
    "k_losstable3c.plot(kind='line',x='Ratio',y='Loss',ax=ax)\n",
    "plt.show()"
   ]
  },
  {
   "cell_type": "code",
   "execution_count": 754,
   "metadata": {},
   "outputs": [],
   "source": [
    "#Minimum loss\n",
    "minloss3c = k_losstable3c['Loss'].min()"
   ]
  },
  {
   "cell_type": "code",
   "execution_count": 755,
   "metadata": {},
   "outputs": [],
   "source": [
    "# Finding index of optimal lamdba\n",
    "optimal_ratio_index = int(k_losstable3c[['Loss']].idxmin())\n",
    "# Finding lambda value\n",
    "optimal_ratio = k_losstable3c.iloc[optimal_ratio_index].Ratio"
   ]
  },
  {
   "cell_type": "code",
   "execution_count": 756,
   "metadata": {},
   "outputs": [
    {
     "name": "stdout",
     "output_type": "stream",
     "text": [
      "Loss for classification model on validation set: 0.445 and optimal ratio value for this classification: 0.1\n"
     ]
    }
   ],
   "source": [
    "print('Loss for classification model on validation set:',round(minloss3c,3),'and optimal ratio value for this classification:',optimal_ratio )"
   ]
  },
  {
   "cell_type": "code",
   "execution_count": 768,
   "metadata": {},
   "outputs": [
    {
     "data": {
      "text/plain": [
       "LogisticRegression(C=16.5, class_weight=None, dual=False, fit_intercept=True,\n",
       "                   intercept_scaling=1, l1_ratio=0.1, max_iter=2000,\n",
       "                   multi_class='multinomial', n_jobs=None, penalty='elasticnet',\n",
       "                   random_state=None, solver='saga', tol=0.0001, verbose=0,\n",
       "                   warm_start=False)"
      ]
     },
     "execution_count": 768,
     "metadata": {},
     "output_type": "execute_result"
    }
   ],
   "source": [
    "# Testing on test sets\n",
    "logreg = LogisticRegression(C=c, penalty='elasticnet', solver='saga', l1_ratio = optimal_ratio, multi_class='multinomial', max_iter = 2000) #l1_ratio is how much l1/l2 penalty funtion\n",
    "logreg.fit(x_train1, y_train1)"
   ]
  },
  {
   "cell_type": "code",
   "execution_count": 773,
   "metadata": {},
   "outputs": [
    {
     "name": "stdout",
     "output_type": "stream",
     "text": [
      "Accuracy of logistic regression classifier on test set: 0.43\n"
     ]
    }
   ],
   "source": [
    "y_pred3c = logreg.predict(x_test1)\n",
    "print('Accuracy of logistic regression classifier on test set: {:.2f}'.format(logreg.score(x_test1, y_test1)))"
   ]
  },
  {
   "cell_type": "code",
   "execution_count": 774,
   "metadata": {},
   "outputs": [],
   "source": [
    "minloss3c = s.mean(y_test1 != y_pred3c)"
   ]
  },
  {
   "cell_type": "code",
   "execution_count": 775,
   "metadata": {},
   "outputs": [
    {
     "name": "stdout",
     "output_type": "stream",
     "text": [
      "[[286 510]\n",
      " [ 44 139]]\n"
     ]
    }
   ],
   "source": [
    "confusion_matrix3c = confusion_matrix(y_test1, y_pred3c)\n",
    "print(confusion_matrix3c)"
   ]
  },
  {
   "cell_type": "code",
   "execution_count": 776,
   "metadata": {},
   "outputs": [
    {
     "name": "stdout",
     "output_type": "stream",
     "text": [
      "Loss for classification model on test set: 0.566 and optimal ratio value for this classification: 0.1\n"
     ]
    }
   ],
   "source": [
    "print('Loss for classification model on test set:',round(minloss3c,3),'and optimal ratio value for this classification:',optimal_ratio)"
   ]
  },
  {
   "cell_type": "markdown",
   "metadata": {},
   "source": [
    "### MODEL 4 - RANDOM FOREST "
   ]
  },
  {
   "cell_type": "code",
   "execution_count": null,
   "metadata": {},
   "outputs": [],
   "source": [
    "# can use accuarcy\n",
    "\n",
    "# can tune n_estimators = number of trees\n",
    "# max_depth = The maximum depth of the tree\n",
    "\n",
    "# max_features = The number of features to consider when looking for the best split, \n",
    "#If “auto”, then max_features=sqrt(n_features)"
   ]
  },
  {
   "cell_type": "code",
   "execution_count": 812,
   "metadata": {},
   "outputs": [
    {
     "name": "stdout",
     "output_type": "stream",
     "text": [
      "10\n",
      "60\n",
      "110\n",
      "160\n",
      "210\n",
      "260\n",
      "310\n",
      "360\n",
      "410\n",
      "460\n"
     ]
    }
   ],
   "source": [
    "trees = []\n",
    "loss_list = []\n",
    "\n",
    "for i in np.arange(10,500,50):\n",
    "    rfc = RandomForestClassifier(max_depth = i)\n",
    "    rfc.fit(x_train1,y_train1)\n",
    "    trees.append(i)\n",
    "    y_pred4 = rfc.predict(x_val1)\n",
    "    x = s.mean(y_val1 != y_pred4)\n",
    "    loss_list.append(x)\n",
    "    print(i)"
   ]
  },
  {
   "cell_type": "code",
   "execution_count": 796,
   "metadata": {},
   "outputs": [
    {
     "data": {
      "text/html": [
       "<div>\n",
       "<style scoped>\n",
       "    .dataframe tbody tr th:only-of-type {\n",
       "        vertical-align: middle;\n",
       "    }\n",
       "\n",
       "    .dataframe tbody tr th {\n",
       "        vertical-align: top;\n",
       "    }\n",
       "\n",
       "    .dataframe thead th {\n",
       "        text-align: right;\n",
       "    }\n",
       "</style>\n",
       "<table border=\"1\" class=\"dataframe\">\n",
       "  <thead>\n",
       "    <tr style=\"text-align: right;\">\n",
       "      <th></th>\n",
       "      <th>Ratio</th>\n",
       "      <th>Loss</th>\n",
       "    </tr>\n",
       "  </thead>\n",
       "  <tbody>\n",
       "    <tr>\n",
       "      <th>0</th>\n",
       "      <td>0.1</td>\n",
       "      <td>0.445352</td>\n",
       "    </tr>\n",
       "    <tr>\n",
       "      <th>1</th>\n",
       "      <td>0.2</td>\n",
       "      <td>0.446374</td>\n",
       "    </tr>\n",
       "    <tr>\n",
       "      <th>2</th>\n",
       "      <td>0.3</td>\n",
       "      <td>0.446374</td>\n",
       "    </tr>\n",
       "    <tr>\n",
       "      <th>3</th>\n",
       "      <td>0.4</td>\n",
       "      <td>0.446374</td>\n",
       "    </tr>\n",
       "    <tr>\n",
       "      <th>4</th>\n",
       "      <td>0.5</td>\n",
       "      <td>0.446374</td>\n",
       "    </tr>\n",
       "    <tr>\n",
       "      <th>5</th>\n",
       "      <td>0.6</td>\n",
       "      <td>0.446374</td>\n",
       "    </tr>\n",
       "    <tr>\n",
       "      <th>6</th>\n",
       "      <td>0.7</td>\n",
       "      <td>0.446374</td>\n",
       "    </tr>\n",
       "    <tr>\n",
       "      <th>7</th>\n",
       "      <td>0.8</td>\n",
       "      <td>0.450460</td>\n",
       "    </tr>\n",
       "    <tr>\n",
       "      <th>8</th>\n",
       "      <td>0.9</td>\n",
       "      <td>0.450460</td>\n",
       "    </tr>\n",
       "  </tbody>\n",
       "</table>\n",
       "</div>"
      ],
      "text/plain": [
       "   Ratio      Loss\n",
       "0    0.1  0.445352\n",
       "1    0.2  0.446374\n",
       "2    0.3  0.446374\n",
       "3    0.4  0.446374\n",
       "4    0.5  0.446374\n",
       "5    0.6  0.446374\n",
       "6    0.7  0.446374\n",
       "7    0.8  0.450460\n",
       "8    0.9  0.450460"
      ]
     },
     "execution_count": 796,
     "metadata": {},
     "output_type": "execute_result"
    }
   ],
   "source": [
    "k_losstable4 = pd.DataFrame({'Trees': trees, 'Loss': loss_list})\n",
    "k_losstable3c.head(10)"
   ]
  },
  {
   "cell_type": "code",
   "execution_count": 797,
   "metadata": {},
   "outputs": [
    {
     "data": {
      "image/png": "[encoded data removed]",
      "text/plain": [
       "<Figure size 432x288 with 1 Axes>"
      ]
     },
     "metadata": {},
     "output_type": "display_data"
    }
   ],
   "source": [
    "# gca stands for 'get current axis'\n",
    "ax = plt.gca()\n",
    "k_losstable4.plot(kind='line',x='Trees',y='Loss',ax=ax)\n",
    "plt.show()"
   ]
  },
  {
   "cell_type": "code",
   "execution_count": 798,
   "metadata": {},
   "outputs": [],
   "source": [
    "#Minimum loss\n",
    "minloss4 = k_losstable4['Loss'].min()"
   ]
  },
  {
   "cell_type": "code",
   "execution_count": 799,
   "metadata": {},
   "outputs": [],
   "source": [
    "# Finding index of optimal tree\n",
    "optimal_tree_index = int(k_losstable4[['Loss']].idxmin())\n",
    "# Finding tree optimal\n",
    "optimal_tree = k_losstable4.iloc[optimal_tree_index].Trees"
   ]
  },
  {
   "cell_type": "code",
   "execution_count": 800,
   "metadata": {},
   "outputs": [
    {
     "data": {
      "text/plain": [
       "1500.0"
      ]
     },
     "execution_count": 800,
     "metadata": {},
     "output_type": "execute_result"
    }
   ],
   "source": [
    "optimal_tree"
   ]
  },
  {
   "cell_type": "code",
   "execution_count": 802,
   "metadata": {},
   "outputs": [
    {
     "name": "stdout",
     "output_type": "stream",
     "text": [
      "Loss for classification model on validation set: 0.384 and optimal trees for this classification: 1500.0\n"
     ]
    }
   ],
   "source": [
    "print('Loss for classification model on validation set:',round(minloss4,3),'and optimal trees for this classification:',optimal_tree)"
   ]
  },
  {
   "cell_type": "code",
   "execution_count": 790,
   "metadata": {},
   "outputs": [
    {
     "data": {
      "text/plain": [
       "RandomForestClassifier(bootstrap=True, ccp_alpha=0.0, class_weight=None,\n",
       "                       criterion='gini', max_depth=None, max_features='auto',\n",
       "                       max_leaf_nodes=None, max_samples=None,\n",
       "                       min_impurity_decrease=0.0, min_impurity_split=None,\n",
       "                       min_samples_leaf=1, min_samples_split=2,\n",
       "                       min_weight_fraction_leaf=0.0, n_estimators=100,\n",
       "                       n_jobs=None, oob_score=False, random_state=None,\n",
       "                       verbose=0, warm_start=False)"
      ]
     },
     "execution_count": 790,
     "metadata": {},
     "output_type": "execute_result"
    }
   ],
   "source": [
    "# Testing on test sets\n",
    "# random forest model creation\n",
    "rfc = RandomForestClassifier(n_estimators=optimal_trees)\n",
    "rfc.fit(x_train1,y_train1)"
   ]
  },
  {
   "cell_type": "code",
   "execution_count": 803,
   "metadata": {},
   "outputs": [],
   "source": [
    "# predictions\n",
    "y_pred4 = rfc.predict(x_test1)"
   ]
  },
  {
   "cell_type": "code",
   "execution_count": 804,
   "metadata": {},
   "outputs": [],
   "source": [
    "minloss4 = s.mean(y_test1 != y_pred4)"
   ]
  },
  {
   "cell_type": "code",
   "execution_count": 806,
   "metadata": {},
   "outputs": [
    {
     "name": "stdout",
     "output_type": "stream",
     "text": [
      "Loss for classification model on test set: 0.545 and optimal trees for this classification: 1500.0\n"
     ]
    }
   ],
   "source": [
    "print('Loss for classification model on test set:',round(minloss4,3),'and optimal trees for this classification:',optimal_tree)"
   ]
  },
  {
   "cell_type": "code",
   "execution_count": 807,
   "metadata": {},
   "outputs": [],
   "source": [
    "max_depths = np.linspace(1, 32, 32, endpoint=True)"
   ]
  },
  {
   "cell_type": "code",
   "execution_count": 811,
   "metadata": {},
   "outputs": [
    {
     "data": {
      "text/plain": [
       "array([ 1.,  2.,  3.,  4.,  5.,  6.,  7.,  8.,  9., 10., 11., 12., 13.,\n",
       "       14., 15., 16., 17., 18., 19., 20., 21., 22., 23., 24., 25., 26.,\n",
       "       27., 28., 29., 30., 31., 32.])"
      ]
     },
     "execution_count": 811,
     "metadata": {},
     "output_type": "execute_result"
    }
   ],
   "source": [
    "max_depths"
   ]
  },
  {
   "cell_type": "code",
   "execution_count": null,
   "metadata": {},
   "outputs": [],
   "source": []
  }
 ],
 "metadata": {
  "kernelspec": {
   "display_name": "Python 3",
   "language": "python",
   "name": "python3"
  },
  "language_info": {
   "codemirror_mode": {
    "name": "ipython",
    "version": 3
   },
   "file_extension": ".py",
   "mimetype": "text/x-python",
   "name": "python",
   "nbconvert_exporter": "python",
   "pygments_lexer": "ipython3",
   "version": "3.7.4"
  }
 },
 "nbformat": 4,
 "nbformat_minor": 4
}
